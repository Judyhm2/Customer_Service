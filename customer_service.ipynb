{
 "cells": [
  {
   "cell_type": "markdown",
   "id": "07875a96",
   "metadata": {},
   "source": [
    "# Customer Service: Dataset preparation"
   ]
  },
  {
   "cell_type": "code",
   "execution_count": 136,
   "id": "2ffebf2c",
   "metadata": {},
   "outputs": [
    {
     "data": {
      "text/html": [
       "        <script type=\"text/javascript\">\n",
       "        window.PlotlyConfig = {MathJaxConfig: 'local'};\n",
       "        if (window.MathJax) {MathJax.Hub.Config({SVG: {font: \"STIX-Web\"}});}\n",
       "        if (typeof require !== 'undefined') {\n",
       "        require.undef(\"plotly\");\n",
       "        requirejs.config({\n",
       "            paths: {\n",
       "                'plotly': ['https://cdn.plot.ly/plotly-2.9.0.min']\n",
       "            }\n",
       "        });\n",
       "        require(['plotly'], function(Plotly) {\n",
       "            window._Plotly = Plotly;\n",
       "        });\n",
       "        }\n",
       "        </script>\n",
       "        "
      ]
     },
     "metadata": {},
     "output_type": "display_data"
    },
    {
     "data": {
      "text/html": [
       "<div>\n",
       "<style scoped>\n",
       "    .dataframe tbody tr th:only-of-type {\n",
       "        vertical-align: middle;\n",
       "    }\n",
       "\n",
       "    .dataframe tbody tr th {\n",
       "        vertical-align: top;\n",
       "    }\n",
       "\n",
       "    .dataframe thead th {\n",
       "        text-align: right;\n",
       "    }\n",
       "</style>\n",
       "<table border=\"1\" class=\"dataframe\">\n",
       "  <thead>\n",
       "    <tr style=\"text-align: right;\">\n",
       "      <th></th>\n",
       "      <th>Fiscal Year</th>\n",
       "      <th>Month</th>\n",
       "      <th>Total Telephone Inquiries</th>\n",
       "      <th>Total Correspondence</th>\n",
       "      <th>Total Onsite Users</th>\n",
       "      <th>Total Items Retrieved</th>\n",
       "      <th>Total Microfilm Reels Shipped</th>\n",
       "      <th>Total Reproductions</th>\n",
       "      <th>Total Certifications</th>\n",
       "    </tr>\n",
       "  </thead>\n",
       "  <tbody>\n",
       "    <tr>\n",
       "      <th>0</th>\n",
       "      <td>2019-2020</td>\n",
       "      <td>April</td>\n",
       "      <td>1094</td>\n",
       "      <td>825</td>\n",
       "      <td>384</td>\n",
       "      <td>1809</td>\n",
       "      <td>148</td>\n",
       "      <td>120</td>\n",
       "      <td>42</td>\n",
       "    </tr>\n",
       "    <tr>\n",
       "      <th>1</th>\n",
       "      <td>2019-2020</td>\n",
       "      <td>May</td>\n",
       "      <td>1454</td>\n",
       "      <td>877</td>\n",
       "      <td>559</td>\n",
       "      <td>1867</td>\n",
       "      <td>45</td>\n",
       "      <td>187</td>\n",
       "      <td>52</td>\n",
       "    </tr>\n",
       "    <tr>\n",
       "      <th>2</th>\n",
       "      <td>2019-2020</td>\n",
       "      <td>June</td>\n",
       "      <td>1124</td>\n",
       "      <td>720</td>\n",
       "      <td>516</td>\n",
       "      <td>1936</td>\n",
       "      <td>55</td>\n",
       "      <td>134</td>\n",
       "      <td>36</td>\n",
       "    </tr>\n",
       "    <tr>\n",
       "      <th>3</th>\n",
       "      <td>2019-2020</td>\n",
       "      <td>July</td>\n",
       "      <td>1587</td>\n",
       "      <td>846</td>\n",
       "      <td>480</td>\n",
       "      <td>1917</td>\n",
       "      <td>61</td>\n",
       "      <td>167</td>\n",
       "      <td>42</td>\n",
       "    </tr>\n",
       "    <tr>\n",
       "      <th>4</th>\n",
       "      <td>2019-2020</td>\n",
       "      <td>August</td>\n",
       "      <td>1214</td>\n",
       "      <td>721</td>\n",
       "      <td>393</td>\n",
       "      <td>1142</td>\n",
       "      <td>60</td>\n",
       "      <td>167</td>\n",
       "      <td>71</td>\n",
       "    </tr>\n",
       "  </tbody>\n",
       "</table>\n",
       "</div>"
      ],
      "text/plain": [
       "  Fiscal Year   Month  Total Telephone Inquiries  Total Correspondence  \\\n",
       "0   2019-2020   April                       1094                   825   \n",
       "1   2019-2020     May                       1454                   877   \n",
       "2   2019-2020    June                       1124                   720   \n",
       "3   2019-2020    July                       1587                   846   \n",
       "4   2019-2020  August                       1214                   721   \n",
       "\n",
       "   Total Onsite Users  Total Items Retrieved  Total Microfilm Reels Shipped  \\\n",
       "0                 384                   1809                            148   \n",
       "1                 559                   1867                             45   \n",
       "2                 516                   1936                             55   \n",
       "3                 480                   1917                             61   \n",
       "4                 393                   1142                             60   \n",
       "\n",
       "   Total Reproductions  Total Certifications  \n",
       "0                  120                    42  \n",
       "1                  187                    52  \n",
       "2                  134                    36  \n",
       "3                  167                    42  \n",
       "4                  167                    71  "
      ]
     },
     "execution_count": 136,
     "metadata": {},
     "output_type": "execute_result"
    }
   ],
   "source": [
    "# Import our dependencies\n",
    "import pandas as pd \n",
    "import numpy as np\n",
    "import logging \n",
    "import random\n",
    "\n",
    "\n",
    "import matplotlib\n",
    "import matplotlib.pyplot as plt\n",
    "import seaborn as sns\n",
    "%matplotlib inline\n",
    "import plotly.graph_objs as go\n",
    "import plotly.figure_factory as ff\n",
    "import sqlalchemy\n",
    "from plotly import tools\n",
    "from plotly.offline import download_plotlyjs, init_notebook_mode, plot, iplot\n",
    "init_notebook_mode(connected=True)\n",
    "from sklearn.model_selection import train_test_split\n",
    "from sklearn.preprocessing import StandardScaler,OneHotEncoder\n",
    "from sklearn.metrics import accuracy_score, precision_score, roc_auc_score, confusion_matrix\n",
    "from sklearn.svm import SVC\n",
    "import pandas as pd\n",
    "import tensorflow as tf\n",
    "\n",
    "from sklearn.preprocessing import StandardScaler\n",
    "from sklearn.ensemble import RandomForestClassifier\n",
    "\n",
    "from sklearn.preprocessing import OneHotEncoder\n",
    "\n",
    "\n",
    "\n",
    "# Import our input dataset\n",
    "cus_service_df = pd.read_csv('archives_of_ontario_customer_service_stats_2010-2020.csv')\n",
    "cus_service_df.head()"
   ]
  },
  {
   "cell_type": "code",
   "execution_count": 137,
   "id": "e4e0a404",
   "metadata": {},
   "outputs": [
    {
     "data": {
      "text/plain": [
       "Index(['Fiscal Year', 'Month', 'Total Telephone Inquiries',\n",
       "       'Total Correspondence', 'Total Onsite Users', 'Total Items Retrieved',\n",
       "       'Total Microfilm Reels Shipped', 'Total Reproductions',\n",
       "       'Total Certifications'],\n",
       "      dtype='object')"
      ]
     },
     "execution_count": 137,
     "metadata": {},
     "output_type": "execute_result"
    }
   ],
   "source": [
    "# Define the columns\n",
    "cus_service_df.columns"
   ]
  },
  {
   "cell_type": "code",
   "execution_count": 138,
   "id": "a603c13c",
   "metadata": {},
   "outputs": [
    {
     "data": {
      "text/plain": [
       "Fiscal Year                      object\n",
       "Month                            object\n",
       "Total Telephone Inquiries         int64\n",
       "Total Correspondence              int64\n",
       "Total Onsite Users                int64\n",
       "Total Items Retrieved             int64\n",
       "Total Microfilm Reels Shipped     int64\n",
       "Total Reproductions               int64\n",
       "Total Certifications              int64\n",
       "dtype: object"
      ]
     },
     "execution_count": 138,
     "metadata": {},
     "output_type": "execute_result"
    }
   ],
   "source": [
    "#Describe the column\n",
    "cus_service_df.dtypes"
   ]
  },
  {
   "cell_type": "code",
   "execution_count": 139,
   "id": "58991ebf",
   "metadata": {},
   "outputs": [
    {
     "name": "stdout",
     "output_type": "stream",
     "text": [
      "Column Fiscal Year has 0null values\n",
      "Column Month has 0null values\n",
      "Column Total Telephone Inquiries has 0null values\n",
      "Column Total Correspondence has 0null values\n",
      "Column Total Onsite Users has 0null values\n",
      "Column Total Items Retrieved has 0null values\n",
      "Column Total Microfilm Reels Shipped has 0null values\n",
      "Column Total Reproductions has 0null values\n",
      "Column Total Certifications has 0null values\n"
     ]
    }
   ],
   "source": [
    "# Find null values\n",
    "for column in cus_service_df.columns:\n",
    "    print(f\"Column {column} has {cus_service_df[column].isnull().sum()}null values\")"
   ]
  },
  {
   "cell_type": "code",
   "execution_count": 140,
   "id": "00c0f729",
   "metadata": {},
   "outputs": [],
   "source": [
    "# Drop null rows\n",
    "cus_service_df = cus_service_df.dropna()"
   ]
  },
  {
   "cell_type": "code",
   "execution_count": 141,
   "id": "3fe95d5d",
   "metadata": {},
   "outputs": [
    {
     "name": "stdout",
     "output_type": "stream",
     "text": [
      "Duplicate entries: 0\n"
     ]
    }
   ],
   "source": [
    "# Find duplicate entries\n",
    "print(f\"Duplicate entries: {cus_service_df.duplicated().sum()}\")"
   ]
  },
  {
   "cell_type": "code",
   "execution_count": 142,
   "id": "5a510ada",
   "metadata": {},
   "outputs": [
    {
     "data": {
      "text/html": [
       "<div>\n",
       "<style scoped>\n",
       "    .dataframe tbody tr th:only-of-type {\n",
       "        vertical-align: middle;\n",
       "    }\n",
       "\n",
       "    .dataframe tbody tr th {\n",
       "        vertical-align: top;\n",
       "    }\n",
       "\n",
       "    .dataframe thead th {\n",
       "        text-align: right;\n",
       "    }\n",
       "</style>\n",
       "<table border=\"1\" class=\"dataframe\">\n",
       "  <thead>\n",
       "    <tr style=\"text-align: right;\">\n",
       "      <th></th>\n",
       "      <th>Total Telephone Inquiries</th>\n",
       "      <th>Total Correspondence</th>\n",
       "      <th>Total Onsite Users</th>\n",
       "      <th>Total Items Retrieved</th>\n",
       "      <th>Total Microfilm Reels Shipped</th>\n",
       "      <th>Total Reproductions</th>\n",
       "      <th>Total Certifications</th>\n",
       "    </tr>\n",
       "  </thead>\n",
       "  <tbody>\n",
       "    <tr>\n",
       "      <th>0</th>\n",
       "      <td>1094</td>\n",
       "      <td>825</td>\n",
       "      <td>384</td>\n",
       "      <td>1809</td>\n",
       "      <td>148</td>\n",
       "      <td>120</td>\n",
       "      <td>42</td>\n",
       "    </tr>\n",
       "    <tr>\n",
       "      <th>1</th>\n",
       "      <td>1454</td>\n",
       "      <td>877</td>\n",
       "      <td>559</td>\n",
       "      <td>1867</td>\n",
       "      <td>45</td>\n",
       "      <td>187</td>\n",
       "      <td>52</td>\n",
       "    </tr>\n",
       "    <tr>\n",
       "      <th>2</th>\n",
       "      <td>1124</td>\n",
       "      <td>720</td>\n",
       "      <td>516</td>\n",
       "      <td>1936</td>\n",
       "      <td>55</td>\n",
       "      <td>134</td>\n",
       "      <td>36</td>\n",
       "    </tr>\n",
       "    <tr>\n",
       "      <th>3</th>\n",
       "      <td>1587</td>\n",
       "      <td>846</td>\n",
       "      <td>480</td>\n",
       "      <td>1917</td>\n",
       "      <td>61</td>\n",
       "      <td>167</td>\n",
       "      <td>42</td>\n",
       "    </tr>\n",
       "    <tr>\n",
       "      <th>4</th>\n",
       "      <td>1214</td>\n",
       "      <td>721</td>\n",
       "      <td>393</td>\n",
       "      <td>1142</td>\n",
       "      <td>60</td>\n",
       "      <td>167</td>\n",
       "      <td>71</td>\n",
       "    </tr>\n",
       "  </tbody>\n",
       "</table>\n",
       "</div>"
      ],
      "text/plain": [
       "   Total Telephone Inquiries  Total Correspondence  Total Onsite Users  \\\n",
       "0                       1094                   825                 384   \n",
       "1                       1454                   877                 559   \n",
       "2                       1124                   720                 516   \n",
       "3                       1587                   846                 480   \n",
       "4                       1214                   721                 393   \n",
       "\n",
       "   Total Items Retrieved  Total Microfilm Reels Shipped  Total Reproductions  \\\n",
       "0                   1809                            148                  120   \n",
       "1                   1867                             45                  187   \n",
       "2                   1936                             55                  134   \n",
       "3                   1917                             61                  167   \n",
       "4                   1142                             60                  167   \n",
       "\n",
       "   Total Certifications  \n",
       "0                    42  \n",
       "1                    52  \n",
       "2                    36  \n",
       "3                    42  \n",
       "4                    71  "
      ]
     },
     "execution_count": 142,
     "metadata": {},
     "output_type": "execute_result"
    }
   ],
   "source": [
    "# Remove the Month column\n",
    "cus_service_df.drop(columns=[\"Fiscal Year\",\"Month\"], inplace=True)\n",
    "\n",
    "cus_service_df.head()"
   ]
  },
  {
   "cell_type": "code",
   "execution_count": 143,
   "id": "d9553589",
   "metadata": {},
   "outputs": [
    {
     "data": {
      "text/html": [
       "<div>\n",
       "<style scoped>\n",
       "    .dataframe tbody tr th:only-of-type {\n",
       "        vertical-align: middle;\n",
       "    }\n",
       "\n",
       "    .dataframe tbody tr th {\n",
       "        vertical-align: top;\n",
       "    }\n",
       "\n",
       "    .dataframe thead th {\n",
       "        text-align: right;\n",
       "    }\n",
       "</style>\n",
       "<table border=\"1\" class=\"dataframe\">\n",
       "  <thead>\n",
       "    <tr style=\"text-align: right;\">\n",
       "      <th></th>\n",
       "      <th>Total Telephone Inquiries</th>\n",
       "      <th>Total Correspondence</th>\n",
       "      <th>Total Onsite Users</th>\n",
       "      <th>Total Items Retrieved</th>\n",
       "      <th>Total Microfilm Reels Shipped</th>\n",
       "      <th>Total Reproductions</th>\n",
       "      <th>Total Certifications</th>\n",
       "    </tr>\n",
       "  </thead>\n",
       "  <tbody>\n",
       "    <tr>\n",
       "      <th>count</th>\n",
       "      <td>120.000000</td>\n",
       "      <td>120.000000</td>\n",
       "      <td>120.000000</td>\n",
       "      <td>120.000000</td>\n",
       "      <td>120.000000</td>\n",
       "      <td>120.000000</td>\n",
       "      <td>120.000000</td>\n",
       "    </tr>\n",
       "    <tr>\n",
       "      <th>mean</th>\n",
       "      <td>1177.175000</td>\n",
       "      <td>747.841667</td>\n",
       "      <td>463.216667</td>\n",
       "      <td>1962.700000</td>\n",
       "      <td>219.275000</td>\n",
       "      <td>2358.550000</td>\n",
       "      <td>45.316667</td>\n",
       "    </tr>\n",
       "    <tr>\n",
       "      <th>std</th>\n",
       "      <td>205.554453</td>\n",
       "      <td>142.815800</td>\n",
       "      <td>117.321664</td>\n",
       "      <td>492.010087</td>\n",
       "      <td>137.065645</td>\n",
       "      <td>7040.572166</td>\n",
       "      <td>12.325408</td>\n",
       "    </tr>\n",
       "    <tr>\n",
       "      <th>min</th>\n",
       "      <td>636.000000</td>\n",
       "      <td>434.000000</td>\n",
       "      <td>208.000000</td>\n",
       "      <td>863.000000</td>\n",
       "      <td>24.000000</td>\n",
       "      <td>57.000000</td>\n",
       "      <td>21.000000</td>\n",
       "    </tr>\n",
       "    <tr>\n",
       "      <th>25%</th>\n",
       "      <td>1049.250000</td>\n",
       "      <td>654.500000</td>\n",
       "      <td>393.000000</td>\n",
       "      <td>1652.750000</td>\n",
       "      <td>123.250000</td>\n",
       "      <td>164.500000</td>\n",
       "      <td>38.000000</td>\n",
       "    </tr>\n",
       "    <tr>\n",
       "      <th>50%</th>\n",
       "      <td>1180.500000</td>\n",
       "      <td>732.000000</td>\n",
       "      <td>440.000000</td>\n",
       "      <td>1918.000000</td>\n",
       "      <td>189.000000</td>\n",
       "      <td>193.000000</td>\n",
       "      <td>43.500000</td>\n",
       "    </tr>\n",
       "    <tr>\n",
       "      <th>75%</th>\n",
       "      <td>1314.750000</td>\n",
       "      <td>834.500000</td>\n",
       "      <td>517.500000</td>\n",
       "      <td>2161.750000</td>\n",
       "      <td>280.000000</td>\n",
       "      <td>233.500000</td>\n",
       "      <td>52.000000</td>\n",
       "    </tr>\n",
       "    <tr>\n",
       "      <th>max</th>\n",
       "      <td>1675.000000</td>\n",
       "      <td>1156.000000</td>\n",
       "      <td>968.000000</td>\n",
       "      <td>3616.000000</td>\n",
       "      <td>774.000000</td>\n",
       "      <td>35041.000000</td>\n",
       "      <td>92.000000</td>\n",
       "    </tr>\n",
       "  </tbody>\n",
       "</table>\n",
       "</div>"
      ],
      "text/plain": [
       "       Total Telephone Inquiries  Total Correspondence  Total Onsite Users  \\\n",
       "count                 120.000000            120.000000          120.000000   \n",
       "mean                 1177.175000            747.841667          463.216667   \n",
       "std                   205.554453            142.815800          117.321664   \n",
       "min                   636.000000            434.000000          208.000000   \n",
       "25%                  1049.250000            654.500000          393.000000   \n",
       "50%                  1180.500000            732.000000          440.000000   \n",
       "75%                  1314.750000            834.500000          517.500000   \n",
       "max                  1675.000000           1156.000000          968.000000   \n",
       "\n",
       "       Total Items Retrieved  Total Microfilm Reels Shipped  \\\n",
       "count             120.000000                     120.000000   \n",
       "mean             1962.700000                     219.275000   \n",
       "std               492.010087                     137.065645   \n",
       "min               863.000000                      24.000000   \n",
       "25%              1652.750000                     123.250000   \n",
       "50%              1918.000000                     189.000000   \n",
       "75%              2161.750000                     280.000000   \n",
       "max              3616.000000                     774.000000   \n",
       "\n",
       "       Total Reproductions  Total Certifications  \n",
       "count           120.000000            120.000000  \n",
       "mean           2358.550000             45.316667  \n",
       "std            7040.572166             12.325408  \n",
       "min              57.000000             21.000000  \n",
       "25%             164.500000             38.000000  \n",
       "50%             193.000000             43.500000  \n",
       "75%             233.500000             52.000000  \n",
       "max           35041.000000             92.000000  "
      ]
     },
     "execution_count": 143,
     "metadata": {},
     "output_type": "execute_result"
    }
   ],
   "source": [
    "# Describe the dataframe\n",
    "cus_service_df.describe()"
   ]
  },
  {
   "cell_type": "code",
   "execution_count": 144,
   "id": "ca77f5c3",
   "metadata": {},
   "outputs": [
    {
     "data": {
      "text/plain": [
       "Total Telephone Inquiries        int64\n",
       "Total Correspondence             int64\n",
       "Total Onsite Users               int64\n",
       "Total Items Retrieved            int64\n",
       "Total Microfilm Reels Shipped    int64\n",
       "Total Reproductions              int64\n",
       "Total Certifications             int64\n",
       "dtype: object"
      ]
     },
     "execution_count": 144,
     "metadata": {},
     "output_type": "execute_result"
    }
   ],
   "source": [
    "cus_service_df.dtypes"
   ]
  },
  {
   "cell_type": "code",
   "execution_count": 145,
   "id": "b18d30f6",
   "metadata": {},
   "outputs": [
    {
     "data": {
      "text/html": [
       "<div>\n",
       "<style scoped>\n",
       "    .dataframe tbody tr th:only-of-type {\n",
       "        vertical-align: middle;\n",
       "    }\n",
       "\n",
       "    .dataframe tbody tr th {\n",
       "        vertical-align: top;\n",
       "    }\n",
       "\n",
       "    .dataframe thead th {\n",
       "        text-align: right;\n",
       "    }\n",
       "</style>\n",
       "<table border=\"1\" class=\"dataframe\">\n",
       "  <thead>\n",
       "    <tr style=\"text-align: right;\">\n",
       "      <th></th>\n",
       "      <th>TotalTelephoneInquiries</th>\n",
       "      <th>TotalCorrespondence</th>\n",
       "      <th>TotalOnsiteUsers</th>\n",
       "      <th>TotalItemsRetrieved</th>\n",
       "      <th>TotalMicrofilmReelsShipped</th>\n",
       "      <th>TotalReproductions</th>\n",
       "      <th>TotalCertifications</th>\n",
       "    </tr>\n",
       "  </thead>\n",
       "  <tbody>\n",
       "    <tr>\n",
       "      <th>0</th>\n",
       "      <td>1094</td>\n",
       "      <td>825</td>\n",
       "      <td>384</td>\n",
       "      <td>1809</td>\n",
       "      <td>148</td>\n",
       "      <td>120</td>\n",
       "      <td>42</td>\n",
       "    </tr>\n",
       "    <tr>\n",
       "      <th>1</th>\n",
       "      <td>1454</td>\n",
       "      <td>877</td>\n",
       "      <td>559</td>\n",
       "      <td>1867</td>\n",
       "      <td>45</td>\n",
       "      <td>187</td>\n",
       "      <td>52</td>\n",
       "    </tr>\n",
       "    <tr>\n",
       "      <th>2</th>\n",
       "      <td>1124</td>\n",
       "      <td>720</td>\n",
       "      <td>516</td>\n",
       "      <td>1936</td>\n",
       "      <td>55</td>\n",
       "      <td>134</td>\n",
       "      <td>36</td>\n",
       "    </tr>\n",
       "    <tr>\n",
       "      <th>3</th>\n",
       "      <td>1587</td>\n",
       "      <td>846</td>\n",
       "      <td>480</td>\n",
       "      <td>1917</td>\n",
       "      <td>61</td>\n",
       "      <td>167</td>\n",
       "      <td>42</td>\n",
       "    </tr>\n",
       "    <tr>\n",
       "      <th>4</th>\n",
       "      <td>1214</td>\n",
       "      <td>721</td>\n",
       "      <td>393</td>\n",
       "      <td>1142</td>\n",
       "      <td>60</td>\n",
       "      <td>167</td>\n",
       "      <td>71</td>\n",
       "    </tr>\n",
       "  </tbody>\n",
       "</table>\n",
       "</div>"
      ],
      "text/plain": [
       "   TotalTelephoneInquiries  TotalCorrespondence  TotalOnsiteUsers  \\\n",
       "0                     1094                  825               384   \n",
       "1                     1454                  877               559   \n",
       "2                     1124                  720               516   \n",
       "3                     1587                  846               480   \n",
       "4                     1214                  721               393   \n",
       "\n",
       "   TotalItemsRetrieved  TotalMicrofilmReelsShipped  TotalReproductions  \\\n",
       "0                 1809                         148                 120   \n",
       "1                 1867                          45                 187   \n",
       "2                 1936                          55                 134   \n",
       "3                 1917                          61                 167   \n",
       "4                 1142                          60                 167   \n",
       "\n",
       "   TotalCertifications  \n",
       "0                   42  \n",
       "1                   52  \n",
       "2                   36  \n",
       "3                   42  \n",
       "4                   71  "
      ]
     },
     "execution_count": 145,
     "metadata": {},
     "output_type": "execute_result"
    }
   ],
   "source": [
    "# Rename the columns names\n",
    "update_cus_service_df = cus_service_df.rename(columns = {'Total Telephone Inquiries': \"TotalTelephoneInquiries\", \\\n",
    "                                                         'Total Correspondence': 'TotalCorrespondence',\n",
    "                                                         'Total Onsite Users': \"TotalOnsiteUsers\", \n",
    "                                                         'Total Items Retrieved': 'TotalItemsRetrieved', \n",
    "                                                         'Total Microfilm Reels Shipped': \"TotalMicrofilmReelsShipped\",\\\n",
    "                                                         'Total Reproductions': 'TotalReproductions', \\\n",
    "                                                         'Total Certifications': \"TotalCertifications\"}, inplace = False)\n",
    "update_cus_service_df.head()"
   ]
  },
  {
   "cell_type": "code",
   "execution_count": 146,
   "id": "6567941b",
   "metadata": {},
   "outputs": [],
   "source": [
    "# Saving cleaned data to a new data frame\n",
    "file_path = \"New_customer_service.csv\"\n",
    "update_cus_service_df.to_csv(file_path, index=False)"
   ]
  },
  {
   "cell_type": "code",
   "execution_count": null,
   "id": "a1ac08a9",
   "metadata": {},
   "outputs": [],
   "source": []
  },
  {
   "cell_type": "markdown",
   "id": "a21b619a",
   "metadata": {},
   "source": [
    "# Data Exporation"
   ]
  },
  {
   "cell_type": "code",
   "execution_count": 147,
   "id": "fd994c9a",
   "metadata": {},
   "outputs": [
    {
     "data": {
      "application/vnd.plotly.v1+json": {
       "config": {
        "linkText": "Export to plot.ly",
        "plotlyServerURL": "https://plot.ly",
        "showLink": false
       },
       "data": [
        {
         "legendgroup": "Under 45 ",
         "marker": {
          "color": "rgb(31, 119, 180)"
         },
         "mode": "lines",
         "name": "Under 45 ",
         "showlegend": true,
         "type": "scatter",
         "x": [
          24,
          25.094,
          26.188,
          27.282,
          28.376,
          29.47,
          30.564,
          31.658,
          32.752,
          33.846000000000004,
          34.94,
          36.034,
          37.128,
          38.222,
          39.316,
          40.41,
          41.504000000000005,
          42.598,
          43.692,
          44.786,
          45.879999999999995,
          46.974000000000004,
          48.068,
          49.162,
          50.256,
          51.35,
          52.444,
          53.538,
          54.632000000000005,
          55.726,
          56.82,
          57.914,
          59.008,
          60.102,
          61.196,
          62.29,
          63.384,
          64.47800000000001,
          65.572,
          66.666,
          67.75999999999999,
          68.854,
          69.94800000000001,
          71.042,
          72.136,
          73.22999999999999,
          74.324,
          75.418,
          76.512,
          77.606,
          78.7,
          79.794,
          80.888,
          81.982,
          83.076,
          84.17,
          85.26400000000001,
          86.358,
          87.452,
          88.546,
          89.64,
          90.734,
          91.828,
          92.922,
          94.016,
          95.11,
          96.204,
          97.298,
          98.392,
          99.486,
          100.58,
          101.674,
          102.768,
          103.862,
          104.956,
          106.05,
          107.144,
          108.238,
          109.332,
          110.426,
          111.52,
          112.614,
          113.708,
          114.802,
          115.896,
          116.99,
          118.084,
          119.178,
          120.272,
          121.366,
          122.46,
          123.554,
          124.648,
          125.742,
          126.836,
          127.93,
          129.024,
          130.118,
          131.212,
          132.30599999999998,
          133.4,
          134.494,
          135.588,
          136.68200000000002,
          137.776,
          138.87,
          139.964,
          141.058,
          142.152,
          143.24599999999998,
          144.34,
          145.434,
          146.52800000000002,
          147.622,
          148.716,
          149.81,
          150.904,
          151.998,
          153.092,
          154.186,
          155.28,
          156.374,
          157.468,
          158.562,
          159.656,
          160.75,
          161.844,
          162.938,
          164.032,
          165.126,
          166.22,
          167.314,
          168.408,
          169.502,
          170.596,
          171.69,
          172.784,
          173.878,
          174.972,
          176.066,
          177.16,
          178.254,
          179.348,
          180.442,
          181.536,
          182.63,
          183.724,
          184.818,
          185.912,
          187.006,
          188.1,
          189.194,
          190.288,
          191.382,
          192.476,
          193.57,
          194.664,
          195.758,
          196.852,
          197.946,
          199.04,
          200.134,
          201.228,
          202.322,
          203.416,
          204.51,
          205.604,
          206.698,
          207.792,
          208.886,
          209.98,
          211.074,
          212.168,
          213.262,
          214.356,
          215.45,
          216.544,
          217.638,
          218.732,
          219.826,
          220.92,
          222.014,
          223.108,
          224.202,
          225.296,
          226.39,
          227.484,
          228.578,
          229.672,
          230.766,
          231.86,
          232.954,
          234.048,
          235.142,
          236.236,
          237.33,
          238.424,
          239.518,
          240.612,
          241.706,
          242.8,
          243.894,
          244.988,
          246.082,
          247.176,
          248.27,
          249.364,
          250.458,
          251.552,
          252.646,
          253.74,
          254.834,
          255.928,
          257.022,
          258.116,
          259.21000000000004,
          260.304,
          261.398,
          262.49199999999996,
          263.586,
          264.68,
          265.774,
          266.868,
          267.962,
          269.05600000000004,
          270.15,
          271.244,
          272.33799999999997,
          273.432,
          274.526,
          275.62,
          276.714,
          277.808,
          278.902,
          279.996,
          281.09,
          282.184,
          283.278,
          284.372,
          285.466,
          286.56,
          287.654,
          288.748,
          289.842,
          290.936,
          292.03,
          293.124,
          294.218,
          295.312,
          296.406,
          297.5,
          298.594,
          299.688,
          300.782,
          301.876,
          302.97,
          304.064,
          305.158,
          306.252,
          307.346,
          308.44,
          309.534,
          310.628,
          311.722,
          312.816,
          313.91,
          315.004,
          316.098,
          317.192,
          318.286,
          319.38,
          320.474,
          321.568,
          322.662,
          323.756,
          324.85,
          325.944,
          327.038,
          328.132,
          329.226,
          330.32,
          331.414,
          332.508,
          333.602,
          334.696,
          335.79,
          336.884,
          337.978,
          339.072,
          340.166,
          341.26,
          342.354,
          343.448,
          344.542,
          345.636,
          346.73,
          347.824,
          348.918,
          350.012,
          351.106,
          352.2,
          353.294,
          354.388,
          355.482,
          356.576,
          357.67,
          358.764,
          359.858,
          360.952,
          362.046,
          363.14,
          364.234,
          365.328,
          366.422,
          367.516,
          368.61,
          369.704,
          370.798,
          371.892,
          372.986,
          374.08,
          375.174,
          376.268,
          377.362,
          378.456,
          379.55,
          380.644,
          381.738,
          382.832,
          383.926,
          385.02,
          386.114,
          387.208,
          388.302,
          389.396,
          390.49,
          391.584,
          392.678,
          393.772,
          394.866,
          395.96,
          397.054,
          398.148,
          399.242,
          400.336,
          401.43,
          402.524,
          403.618,
          404.712,
          405.806,
          406.9,
          407.994,
          409.088,
          410.182,
          411.276,
          412.37,
          413.464,
          414.558,
          415.652,
          416.746,
          417.84,
          418.934,
          420.028,
          421.122,
          422.216,
          423.31,
          424.404,
          425.498,
          426.592,
          427.686,
          428.78,
          429.874,
          430.968,
          432.062,
          433.156,
          434.25,
          435.344,
          436.438,
          437.532,
          438.626,
          439.72,
          440.814,
          441.908,
          443.002,
          444.096,
          445.19,
          446.284,
          447.378,
          448.472,
          449.566,
          450.66,
          451.754,
          452.848,
          453.942,
          455.036,
          456.13,
          457.224,
          458.318,
          459.412,
          460.506,
          461.6,
          462.694,
          463.788,
          464.882,
          465.976,
          467.07,
          468.164,
          469.258,
          470.352,
          471.446,
          472.54,
          473.634,
          474.728,
          475.822,
          476.916,
          478.01,
          479.104,
          480.198,
          481.292,
          482.386,
          483.48,
          484.574,
          485.668,
          486.762,
          487.856,
          488.95,
          490.044,
          491.138,
          492.232,
          493.326,
          494.42,
          495.514,
          496.608,
          497.702,
          498.796,
          499.89,
          500.984,
          502.078,
          503.172,
          504.266,
          505.36,
          506.454,
          507.548,
          508.642,
          509.736,
          510.83,
          511.924,
          513.018,
          514.1120000000001,
          515.206,
          516.3,
          517.394,
          518.488,
          519.582,
          520.6759999999999,
          521.77,
          522.864,
          523.9580000000001,
          525.052,
          526.146,
          527.24,
          528.3340000000001,
          529.428,
          530.5219999999999,
          531.616,
          532.71,
          533.804,
          534.898,
          535.992,
          537.086,
          538.18,
          539.274,
          540.368,
          541.462,
          542.556,
          543.65,
          544.744,
          545.838,
          546.932,
          548.026,
          549.12,
          550.214,
          551.308,
          552.402,
          553.496,
          554.59,
          555.684,
          556.778,
          557.872,
          558.966,
          560.06,
          561.154,
          562.248,
          563.342,
          564.436,
          565.53,
          566.624,
          567.718,
          568.812,
          569.906
         ],
         "xaxis": "x",
         "y": [
          0.0012836584496841302,
          0.0013066202772295753,
          0.001329701563067273,
          0.0013528963686009307,
          0.0013761987026869205,
          0.0013996025274671557,
          0.0014231017641834847,
          0.0014466902989586905,
          0.0014703619885292265,
          0.0014941106659148962,
          0.0015179301460108152,
          0.0015418142310871731,
          0.0015657567161825,
          0.0015897513943764804,
          0.0016137920619286104,
          0.0016378725232694185,
          0.001661986595831351,
          0.0016861281147069222,
          0.0017102909371222,
          0.0017344689467143084,
          0.0017586560576021675,
          0.001782846218240394,
          0.0018070334150469202,
          0.0018312116757956388,
          0.0018553750727661473,
          0.0018795177256434102,
          0.001903633804161044,
          0.0019277175304827604,
          0.0019517631813173529,
          0.0019757650897635694,
          0.0019997176468821223,
          0.0020236153029930147,
          0.0020474525686973322,
          0.0020712240156236625,
          0.0020949242769002095,
          0.0021185480473547443,
          0.0021420900834454295,
          0.002165545202926651,
          0.002188908284254877,
          0.0022121742657405987,
          0.0022353381444533476,
          0.0022583949748877456,
          0.0022813398673994533,
          0.0023041679864208345,
          0.002326874548466956,
          0.0023494548199434933,
          0.002371904114768872,
          0.002394217791823743,
          0.0024163912522417175,
          0.002438419936555911,
          0.0024602993217165327,
          0.0024820249179954164,
          0.0025035922657938472,
          0.002524996932370701,
          0.002546234508508191,
          0.002567300605133109,
          0.0025881908499115944,
          0.002608900883835937,
          0.00262942635782197,
          0.002649762929335909,
          0.0026699062590694747,
          0.0026898520076822094,
          0.0027095958326299064,
          0.0027291333850978684,
          0.0027484603070576014,
          0.0027675722284653138,
          0.0027864647646202692,
          0.002805133513700666,
          0.002823574054494275,
          0.002841781944340626,
          0.0028597527173008534,
          0.00287748188257082,
          0.0028949649231523452,
          0.0029121972947966806,
          0.002929174425233537,
          0.002945891713698138,
          0.0029623445307678823,
          0.002978528218519145,
          0.0029944380910139194,
          0.003010069435124731,
          0.0030254175117053967,
          0.0030404775571138973,
          0.0030552447850925387,
          0.0030697143890094695,
          0.003083881544464222,
          0.0030977414122589,
          0.0031112891417352357,
          0.003124519874476558,
          0.0031374287483723886,
          0.0031500109020420643,
          0.0031622614796125888,
          0.003174175635844492,
          0.0031857485415983317,
          0.0031969753896330484,
          0.0032078514007262593,
          0.0032183718301052387,
          0.0032285319741761527,
          0.0032383271775378955,
          0.0032477528402657494,
          0.003256804425448902,
          0.0032654774669648233,
          0.0032737675774723767,
          0.003281670456604641,
          0.0032891818993413236,
          0.0032962978045398814,
          0.0033030141836034982,
          0.003309327169263369,
          0.0033152330244519235,
          0.0033207281512430496,
          0.0033258090998347016,
          0.0033304725775487776,
          0.0033347154578227,
          0.0033385347891667447,
          0.0033419278040608302,
          0.003344891927764271,
          0.0033474247870118423,
          0.003349524218569406,
          0.0033511882776223537,
          0.0033524152459702434,
          0.0033532036400010954,
          0.0033535522184191496,
          0.0033534599897001053,
          0.0033529262192483825,
          0.0033519504362313143,
          0.0033505324400658655,
          0.0033486723065339805,
          0.003346370393503488,
          0.0033436273462322617,
          0.003340444102234127,
          0.003336821895686066,
          0.003332762261357145,
          0.0033282670380408055,
          0.0033233383714731425,
          0.003317978716721127,
          0.0033121908400259035,
          0.003305977820087642,
          0.0032993430487797512,
          0.0032922902312817184,
          0.003284823385621267,
          0.0032769468416180094,
          0.003268665239222316,
          0.003259983526244706,
          0.0032509069554726056,
          0.003241441081172984,
          0.0032315917549809755,
          0.003221365121176267,
          0.00321076761135067,
          0.0031998059384719725,
          0.00318848709035081,
          0.0031768183225189765,
          0.003164807150529212,
          0.0031524613416881748,
          0.0031397889062358894,
          0.0031267980879865686,
          0.003113497354447237,
          0.0030998953864321962,
          0.0030860010671927324,
          0.003071823471083043,
          0.0030573718517846503,
          0.003042655630113027,
          0.003027684381431318,
          0.0030124678226974184,
          0.002997015799171708,
          0.0029813382708139555,
          0.002965445298398812,
          0.0029493470293803946,
          0.00293305368353724,
          0.0029165755384297303,
          0.0028999229147028387,
          0.002883106161267598,
          0.002866135640395279,
          0.0028490217127586804,
          0.0028317747224553187,
          0.0028144049820474767,
          0.0027969227576543202,
          0.002779338254131289,
          0.002761661600371962,
          0.002743902834767411,
          0.0027260718908578775,
          0.0027081785832112526,
          0.002690232593562353,
          0.0026722434572465266,
          0.002654220549960455,
          0.0026361730748822817,
          0.002618110050182409,
          0.0026000402969553428,
          0.0025819724276020337,
          0.002563914834691,
          0.002545875680325377,
          0.0025278628860418008,
          0.0025098841232656494,
          0.0024919468043458,
          0.00247405807419055,
          0.002456224802524811,
          0.0024384535767870814,
          0.0024207506956830517,
          0.002403122163410885,
          0.002385573684571577,
          0.0023681106597759063,
          0.0023507381819576124,
          0.0023334610334006314,
          0.00231628368348624,
          0.002299210287164068,
          0.002282244684148954,
          0.002265390398843712,
          0.0022486506409858573,
          0.002232028307014407,
          0.0022155259821509455,
          0.002199145943187157,
          0.002182890161969141,
          0.002166760309566923,
          0.002150757761115742,
          0.0021348836013137975,
          0.002119138630559482,
          0.002103523371709258,
          0.002088038077435776,
          0.002072682738164145,
          0.002057457090562725,
          0.00204236062656338,
          0.00202739260288462,
          0.0020125520510298465,
          0.001997837787731565,
          0.001983248425811346,
          0.0019687823854241827,
          0.0019544379056549554,
          0.001940213056433823,
          0.0019261057507365515,
          0.0019121137570351516,
          0.0018982347119635861,
          0.001884466133162856,
          0.0018708054322693743,
          0.0018572499280103422,
          0.0018437968593696089,
          0.0018304433987875379,
          0.0018171866653583907,
          0.001804023737988987,
          0.0017909516684826215,
          0.001777967494512642,
          0.0017650682524505737,
          0.0017522509900142612,
          0.001739512778702223,
          0.0017268507259811563,
          0.0017142619871944767,
          0.0017017437771607085,
          0.001689293381431636,
          0.0016769081671812653,
          0.0016645855936978876,
          0.0016523232224528418,
          0.0016401187267209272,
          0.0016279699007289356,
          0.0016158746683101778,
          0.0016038310910445365,
          0.0015918373758651435,
          0.0015798918821144548,
          0.0015679931280341952,
          0.001556139796675392,
          0.0015443307412164645,
          0.001532564989679139,
          0.0015208417490337578,
          0.001509160408687369,
          0.0014975205433497894,
          0.0014859219152746912,
          0.0014743644758745257,
          0.0014628483667099392,
          0.0014513739198561,
          0.001439941657650121,
          0.0014285522918254861,
          0.0014172067220410965,
          0.0014059060338141977,
          0.0013946514958680727,
          0.001383444556906934,
          0.0013722868418319795,
          0.0013611801474140129,
          0.0013501264374394207,
          0.0013391278373476381,
          0.0013281866283794813,
          0.0013173052412569061,
          0.0013064862494158707,
          0.0012957323618150158,
          0.0012850464153438131,
          0.0012744313668547247,
          0.0012638902848446836,
          0.0012534263408119266,
          0.0012430428003148098,
          0.0012327430137597985,
          0.0012225304069462233,
          0.001212408471395792,
          0.0012023807544950978,
          0.0011924508494795508,
          0.0011826223852872675,
          0.0011728990163114438,
          0.001163284412079718,
          0.0011537822468888092,
          0.0011443961894225705,
          0.0011351298923812125,
          0.0011259869821491338,
          0.0011169710485282997,
          0.0011080856345636145,
          0.0010993342264861293,
          0.00109072024379928,
          0.001082247029532635,
          0.0010739178406868654,
          0.0010657358388928314,
          0.0010577040813067916,
          0.0010498255117628418,
          0.0010421029522027188,
          0.001034539094402113,
          0.001027136492011596,
          0.0010198975529292073,
          0.0010128245320206591,
          0.0010059195242020059,
          0.0009991844578984914,
          0.0009926210888921403,
          0.0009862309945695162,
          0.0009800155685798912,
          0.0009739760159129132,
          0.0009681133484036911,
          0.0009624283806720509,
          0.0009569217265015558,
          0.000951593795662756,
          0.0009464447911839689,
          0.0009414747070718038,
          0.0009366833264825216,
          0.0009320702203442644,
          0.0009276347464291151,
          0.0009233760488729313,
          0.0009192930581399015,
          0.0009153844914277856,
          0.0009116488535088864,
          0.0009080844380008732,
          0.0009046893290607229,
          0.0009014614034942078,
          0.0008983983332725614,
          0.0008954975884471996,
          0.0008927564404526442,
          0.0008901719657871425,
          0.000887741050059804,
          0.0008854603923925049,
          0.0008833265101642343,
          0.0008813357440850486,
          0.0008794842635863141,
          0.0008777680725134923,
          0.0008761830151073067,
          0.0008747247822587895,
          0.0008733889180233741,
          0.0008721708263789189,
          0.0008710657782123115,
          0.0008700689185190784,
          0.000869175273800269,
          0.0008683797596407306,
          0.000867677188452796,
          0.0008670622773693265,
          0.0008665296562700151,
          0.0008660738759248475,
          0.0008656894162386299,
          0.0008653706945805476,
          0.0008651120741827875,
          0.0008649078725923633,
          0.0008647523701603987,
          0.0008646398185532848,
          0.000864564449270287,
          0.0008645204821523817,
          0.0008645021338673071,
          0.0008645036263560541,
          0.000864519195226269,
          0.000864543098078314,
          0.0008645696227500192,
          0.0008645930954664557,
          0.0008646078888813873,
          0.0008646084299973833,
          0.0008645892079519242,
          0.0008645447816571928,
          0.0008644697872816114,
          0.000864358945561569,
          0.0008642070689321892,
          0.0008640090684663715,
          0.0008637599606117787,
          0.000863454873715854,
          0.0008630890543293892,
          0.0008626578732796134,
          0.000862156831504215,
          0.0008615815656381804,
          0.0008609278533457924,
          0.0008601916183906076,
          0.0008593689354367206,
          0.0008584560345751027,
          0.0008574493055693029,
          0.0008563453018152996,
          0.0008551407440107967,
          0.0008538325235297661,
          0.0008524177054985627,
          0.0008508935315704485,
          0.0008492574223958954,
          0.0008475069797865536,
          0.0008456399885713137,
          0.0008436544181434131,
          0.0008415484236980746,
          0.0008393203471607055,
          0.0008369687178062074,
          0.0008344922525704943,
          0.0008318898560558439,
          0.0008291606202322422,
          0.0008263038238374013,
          0.0008233189314786712,
          0.0008202055924405741,
          0.0008169636392022121,
          0.0008135930856693052,
          0.0008100941251261256,
          0.0008064671279130763,
          0.0008027126388361613,
          0.0007988313743150598,
          0.0007948242192769805,
          0.000790692223803929,
          0.0007864365995414545,
          0.0007820587158773621,
          0.0007775600958992941,
          0.0007729424121404649,
          0.0007682074821232069,
          0.0007633572637103524,
          0.0007583938502747911,
          0.0007533194656978719,
          0.0007481364592076011,
          0.0007428473000678638,
          0.0007374545721301356,
          0.0007319609682593742,
          0.0007263692846459812,
          0.000720682415015883,
          0.0007149033447509379,
          0.0007090351449319795,
          0.0007030809663168996,
          0.0006970440332662341,
          0.0006909276376287487,
          0.0006847351325995207,
          0.0006784699265629785,
          0.0006721354769333296,
          0.000665735284004687,
          0.0006592728848231216,
          0.0006527518470927072,
          0.000646175763127449,
          0.0006395482438608074,
          0.0006328729129242654,
          0.0006261534008061714,
          0.0006193933391017639,
          0.0006125963548650146,
          0.0006057660650725544,
          0.0005989060712096183,
          0.0005920199539875419,
          0.0005851112682019352,
          0.0005781835377402576,
          0.0005712402507470311,
          0.0005642848549544944,
          0.0005573207531860086,
          0.0005503512990390153,
          0.0005433797927538452,
          0.0005364094772741389,
          0.0005294435345041224,
          0.0005224850817673993,
          0.000515537168471393,
          0.0005086027729809992,
          0.0005016847997044376,
          0.0004947860763937305,
          0.0004879093516616581,
          0.00048105729271646593,
          0.00047423248331503686,
          0.00046743742193468475,
          0.0004606745201631427,
          0.00045394610130578786,
          0.0004472543992085991,
          0.0004406015572948105,
          0.00043398962781269514,
          0.0004274205712914327,
          0.0004208962562014868,
          0.00041441845881549585,
          0.0004079888632651684,
          0.00040160906178928363,
          0.000395280555167467,
          0.00038900475333400437,
          0.0003827829761656168,
          0.0003766164544367366,
          0.0003705063309355385,
          0.0003644536617336457,
          0.00035845941760220167,
          0.00035252448556670956,
          0.0003466496705928564,
          0.0003408356973953423,
          0.00033508321236155316,
          0.0003293927855818151,
          0.000323764912977822,
          0.0003182000185207887,
          0.00031269845653079167,
          0.0003072605140487745,
          0.0003018864132726568,
          0.0002965763140490551,
          0.00029133031641214677,
          0.0002861484631613066,
          0.0002810307424692548,
          0.00027597709051256213,
          0.0002709873941165422,
          0.00026606149340670167,
          0.00026119918445915275
         ],
         "yaxis": "y"
        },
        {
         "legendgroup": "Over 45",
         "marker": {
          "color": "rgb(255, 127, 14)"
         },
         "mode": "lines",
         "name": "Over 45",
         "showlegend": true,
         "type": "scatter",
         "x": [
          45,
          46.458,
          47.916,
          49.374,
          50.832,
          52.29,
          53.748,
          55.206,
          56.664,
          58.122,
          59.58,
          61.038,
          62.495999999999995,
          63.954,
          65.412,
          66.87,
          68.328,
          69.786,
          71.244,
          72.702,
          74.16,
          75.618,
          77.076,
          78.53399999999999,
          79.99199999999999,
          81.45,
          82.908,
          84.366,
          85.824,
          87.282,
          88.74000000000001,
          90.19800000000001,
          91.656,
          93.114,
          94.572,
          96.03,
          97.488,
          98.946,
          100.404,
          101.862,
          103.32,
          104.77799999999999,
          106.23599999999999,
          107.694,
          109.152,
          110.61,
          112.068,
          113.526,
          114.984,
          116.442,
          117.9,
          119.358,
          120.816,
          122.274,
          123.732,
          125.19,
          126.648,
          128.106,
          129.564,
          131.022,
          132.48000000000002,
          133.938,
          135.39600000000002,
          136.85399999999998,
          138.312,
          139.76999999999998,
          141.228,
          142.686,
          144.144,
          145.602,
          147.06,
          148.518,
          149.976,
          151.434,
          152.892,
          154.35,
          155.808,
          157.26600000000002,
          158.724,
          160.18200000000002,
          161.64,
          163.098,
          164.55599999999998,
          166.014,
          167.47199999999998,
          168.93,
          170.388,
          171.846,
          173.304,
          174.762,
          176.22,
          177.678,
          179.136,
          180.594,
          182.052,
          183.51,
          184.968,
          186.426,
          187.884,
          189.342,
          190.8,
          192.258,
          193.716,
          195.174,
          196.632,
          198.09,
          199.548,
          201.006,
          202.464,
          203.922,
          205.38,
          206.838,
          208.296,
          209.754,
          211.212,
          212.67,
          214.128,
          215.586,
          217.044,
          218.502,
          219.96,
          221.418,
          222.876,
          224.334,
          225.792,
          227.25,
          228.708,
          230.166,
          231.624,
          233.082,
          234.54,
          235.998,
          237.456,
          238.914,
          240.372,
          241.83,
          243.288,
          244.746,
          246.204,
          247.662,
          249.12,
          250.578,
          252.036,
          253.494,
          254.952,
          256.40999999999997,
          257.868,
          259.326,
          260.784,
          262.24199999999996,
          263.7,
          265.158,
          266.616,
          268.074,
          269.53200000000004,
          270.99,
          272.448,
          273.906,
          275.36400000000003,
          276.822,
          278.28,
          279.738,
          281.196,
          282.654,
          284.11199999999997,
          285.57,
          287.028,
          288.486,
          289.94399999999996,
          291.402,
          292.86,
          294.318,
          295.776,
          297.23400000000004,
          298.692,
          300.15,
          301.608,
          303.066,
          304.524,
          305.982,
          307.44,
          308.898,
          310.356,
          311.814,
          313.272,
          314.73,
          316.188,
          317.646,
          319.104,
          320.562,
          322.02,
          323.478,
          324.936,
          326.394,
          327.852,
          329.31,
          330.768,
          332.226,
          333.684,
          335.142,
          336.6,
          338.058,
          339.516,
          340.974,
          342.432,
          343.89,
          345.348,
          346.806,
          348.264,
          349.722,
          351.18,
          352.638,
          354.096,
          355.554,
          357.012,
          358.47,
          359.928,
          361.386,
          362.844,
          364.302,
          365.76,
          367.218,
          368.676,
          370.134,
          371.592,
          373.05,
          374.508,
          375.966,
          377.424,
          378.882,
          380.34,
          381.798,
          383.256,
          384.714,
          386.172,
          387.63,
          389.088,
          390.546,
          392.004,
          393.462,
          394.92,
          396.378,
          397.836,
          399.294,
          400.752,
          402.21,
          403.668,
          405.126,
          406.584,
          408.042,
          409.5,
          410.958,
          412.416,
          413.874,
          415.332,
          416.79,
          418.248,
          419.706,
          421.164,
          422.622,
          424.08,
          425.538,
          426.996,
          428.454,
          429.912,
          431.37,
          432.828,
          434.286,
          435.744,
          437.202,
          438.66,
          440.118,
          441.576,
          443.034,
          444.492,
          445.95,
          447.408,
          448.866,
          450.324,
          451.782,
          453.24,
          454.698,
          456.156,
          457.614,
          459.072,
          460.53,
          461.988,
          463.446,
          464.904,
          466.362,
          467.82,
          469.278,
          470.736,
          472.194,
          473.652,
          475.11,
          476.568,
          478.026,
          479.484,
          480.942,
          482.4,
          483.858,
          485.316,
          486.774,
          488.232,
          489.69,
          491.148,
          492.606,
          494.064,
          495.522,
          496.98,
          498.438,
          499.896,
          501.354,
          502.812,
          504.27,
          505.728,
          507.186,
          508.644,
          510.102,
          511.56,
          513.018,
          514.476,
          515.934,
          517.392,
          518.85,
          520.308,
          521.7660000000001,
          523.2239999999999,
          524.682,
          526.14,
          527.598,
          529.056,
          530.514,
          531.972,
          533.4300000000001,
          534.8879999999999,
          536.346,
          537.804,
          539.262,
          540.72,
          542.178,
          543.636,
          545.094,
          546.552,
          548.01,
          549.4680000000001,
          550.9259999999999,
          552.384,
          553.842,
          555.3,
          556.758,
          558.216,
          559.674,
          561.132,
          562.59,
          564.048,
          565.506,
          566.964,
          568.422,
          569.88,
          571.338,
          572.796,
          574.254,
          575.712,
          577.17,
          578.628,
          580.086,
          581.544,
          583.002,
          584.46,
          585.918,
          587.376,
          588.834,
          590.292,
          591.75,
          593.208,
          594.666,
          596.124,
          597.582,
          599.04,
          600.498,
          601.956,
          603.414,
          604.872,
          606.33,
          607.788,
          609.246,
          610.704,
          612.162,
          613.62,
          615.078,
          616.536,
          617.994,
          619.452,
          620.91,
          622.368,
          623.826,
          625.284,
          626.742,
          628.2,
          629.658,
          631.116,
          632.574,
          634.032,
          635.49,
          636.948,
          638.406,
          639.864,
          641.322,
          642.78,
          644.238,
          645.696,
          647.154,
          648.612,
          650.07,
          651.528,
          652.986,
          654.444,
          655.902,
          657.36,
          658.818,
          660.276,
          661.734,
          663.192,
          664.65,
          666.108,
          667.566,
          669.024,
          670.482,
          671.94,
          673.398,
          674.856,
          676.314,
          677.772,
          679.23,
          680.688,
          682.146,
          683.604,
          685.062,
          686.52,
          687.978,
          689.436,
          690.894,
          692.352,
          693.81,
          695.268,
          696.726,
          698.184,
          699.642,
          701.1,
          702.558,
          704.016,
          705.474,
          706.932,
          708.39,
          709.848,
          711.306,
          712.764,
          714.222,
          715.68,
          717.138,
          718.596,
          720.054,
          721.512,
          722.97,
          724.428,
          725.886,
          727.344,
          728.802,
          730.26,
          731.718,
          733.176,
          734.634,
          736.092,
          737.55,
          739.008,
          740.466,
          741.924,
          743.382,
          744.84,
          746.298,
          747.756,
          749.214,
          750.672,
          752.13,
          753.588,
          755.046,
          756.504,
          757.962,
          759.42,
          760.878,
          762.336,
          763.794,
          765.252,
          766.71,
          768.168,
          769.626,
          771.084,
          772.542
         ],
         "xaxis": "x",
         "y": [
          0.0014611500015600438,
          0.001493112321563253,
          0.0015252706275372802,
          0.0015576092436229096,
          0.0015901121097343478,
          0.0016227628006778134,
          0.0016555445463723281,
          0.0016884402531431985,
          0.0017214325260543496,
          0.001754503692241296,
          0.001787635825202245,
          0.0018208107700005108,
          0.0018540101693271598,
          0.0018872154903686416,
          0.0019204080524200615,
          0.0019535690551807836,
          0.0019866796076651962,
          0.0020197207576578176,
          0.0020526735216383745,
          0.00208551891509923,
          0.002118237983174394,
          0.002150811831496573,
          0.0021832216571960644,
          0.002215448779953079,
          0.0022474746730129867,
          0.002279280994072387,
          0.0023108496159424687,
          0.002342162656895202,
          0.0023732025105971852,
          0.002403951875535785,
          0.002434393783842233,
          0.0024645116294169577,
          0.002494289195263219,
          0.002523710679936569,
          0.0025527607230192303,
          0.002581424429530784,
          0.002609687393188946,
          0.0026375357184372744,
          0.002664956041159926,
          0.002691935548007396,
          0.002718461994261195,
          0.002744523720170027,
          0.0027701096656948167,
          0.0027952093836051523,
          0.0028198130508752294,
          0.00284391147833322,
          0.0028674961185240606,
          0.0028905590717520882,
          0.002913093090276462,
          0.0029350915806391708,
          0.0029565486041124214,
          0.0029774588752592575,
          0.002997817758608562,
          0.0030176212634529373,
          0.0030368660367852264,
          0.0030555493543969825,
          0.0030736691101694467,
          0.0030912238035949438,
          0.0031082125255738856,
          0.003124634942539629,
          0.003140491278970374,
          0.0031557822983541038,
          0.003170509282679064,
          0.0031846740105285066,
          0.0031982787338645,
          0.0032113261535911845,
          0.0032238193939931625,
          0.003235761976149687,
          0.003247157790429781,
          0.00325801106817749,
          0.0032683263527001735,
          0.0032781084696758126,
          0.00328736249709802,
          0.003296093734879589,
          0.0033043076742370055,
          0.0033120099669795293,
          0.003319206394826875,
          0.003325902838879686,
          0.003332105249366302,
          0.003337819615788332,
          0.0033430519375858346,
          0.0033478081954407893,
          0.003352094323334744,
          0.0033559161814733355,
          0.003359279530186634,
          0.0033621900049099576,
          0.0033646530923451636,
          0.0033666741078971656,
          0.0033682581744749053,
          0.0033694102027399097,
          0.0033701348728792714,
          0.0033704366179730834,
          0.003370319609019353,
          0.0033697877416720905,
          0.003368844624740666,
          0.0033674935704907823,
          0.0033657375867793935,
          0.0033635793710478784,
          0.0033610213061895018,
          0.0033580654582989924,
          0.0033547135763037925,
          0.0033509670934682343,
          0.003346827130753761,
          0.0033422945020101825,
          0.0033373697209649732,
          0.00333205300996987,
          0.003326344310456446,
          0.0033202432950449547,
          0.0033137493812437444,
          0.0033068617466697676,
          0.0032995793457143156,
          0.0032919009275720924,
          0.0032838250555461005,
          0.003275350127535602,
          0.0032664743976097066,
          0.0032571959985647717,
          0.0032475129653600737,
          0.0032374232593228407,
          0.003226924793011012,
          0.003216015455619748,
          0.0032046931388160635,
          0.003192955762884671,
          0.0031808013030675455,
          0.0031682278159795275,
          0.003155233465982757,
          0.003141816551403606,
          0.003127975530477305,
          0.003113709046907369,
          0.003099015954929451,
          0.0030838953437721324,
          0.0030683465614106268,
          0.003052369237513192,
          0.0030359633054842924,
          0.003019129023513272,
          0.0030018669945422486,
          0.002984178185072409,
          0.002966063942733446,
          0.00294752601254698,
          0.002928566551820884,
          0.002909188143617993,
          0.0028893938087491762,
          0.002869187016247644,
          0.002848571692288105,
          0.0028275522275215195,
          0.002806133482803084,
          0.002784320793298169,
          0.002762119970957985,
          0.0027395373053636487,
          0.0027165795629442487,
          0.00269325398458128,
          0.0026695682816184297,
          0.0026455306303021188,
          0.002621149664684519,
          0.002596434468026704,
          0.002571394562745416,
          0.0025460398989523786,
          0.0025203808416402796,
          0.0024944281565744434,
          0.0024681929949536925,
          0.002441686876908116,
          0.0024149216739052515,
          0.0023879095901396417,
          0.0023606631429837345,
          0.0023331951425807937,
          0.002305518670662681,
          0.0022776470586772634,
          0.002249593865311607,
          0.0022213728534981464,
          0.0021929979669916854,
          0.0021644833066052837,
          0.0021358431061929187,
          0.0021070917084663344,
          0.0020782435407324705,
          0.0020493130906367113,
          0.002020314881995473,
          0.0019912634507997435,
          0.0019621733214689402,
          0.0019330589834317962,
          0.0019039348681082406,
          0.0018748153263630541,
          0.001845714606498748,
          0.001816646832851543,
          0.0017876259850505654,
          0.0017586658779963815,
          0.0017297801426109443,
          0.0017009822074067382,
          0.001672285280918596,
          0.0016437023350371898,
          0.0016152460892787462,
          0.0015869289960209316,
          0.0015587632267303473,
          0.0015307606592024603,
          0.0015029328658302899,
          0.0014752911029136434,
          0.001447846301016257,
          0.0014206090563738305,
          0.0013935896233517016,
          0.0013667979079467012,
          0.0013402434623237536,
          0.0013139354803738804,
          0.001287882794276532,
          0.0012620938720456457,
          0.001236576816035406,
          0.0012113393623785584,
          0.0011863888813270728,
          0.0011617323784622409,
          0.0011373764967386724,
          0.0011133275193243581,
          0.0010895913731967884,
          0.0010661736334533019,
          0.0010430795282920758,
          0.001020313944618821,
          0.0009978814342329792,
          0.0009757862205462702,
          0.00095403220578567,
          0.000932622978632386,
          0.0009115618222480652,
          0.0008908517226393966,
          0.0008704953773123768,
          0.0008504952041678083,
          0.0008308533505901491,
          0.0008115717026824922,
          0.0007926518946013752,
          0.0007740953179461458,
          0.0007559031311588561,
          0.0007380762688919976,
          0.000720615451302953,
          0.0007035211932356419,
          0.0006867938132516698,
          0.0006704334424751307,
          0.0006544400332172614,
          0.000638813367349187,
          0.0006235530643932236,
          0.0006086585893053959,
          0.0005941292599241962,
          0.0005799642540629194,
          0.000566162616225351,
          0.0005527232639270095,
          0.000539644993606582,
          0.0005269264861147072,
          0.0005145663117696782,
          0.0005025629349721495,
          0.0004909147183733468,
          0.00047961992659373325,
          0.0004686767294914464,
          0.0004580832049822038,
          0.00044783734141464235,
          0.00043793703950733176,
          0.00042838011385585765,
          0.00041916429402049537,
          0.00041028722520701597,
          0.00040174646855512306,
          0.00039353950105086615,
          0.00038566371508114654,
          0.00037811641765009307,
          0.0003708948292786346,
          0.0003639960826100551,
          0.0003574172207456359,
          0.00035115519533572255,
          0.0003452068644526314,
          0.0003395689902728012,
          0.0003342382365964212,
          0.00032921116623350503,
          0.0003244842382859509,
          0.00032005380535559547,
          0.00031591611070858896,
          0.00031206728542661417,
          0.0003085033455755239,
          0.00030522018942191287,
          0.000302213594727917,
          0.00029947921615421395,
          0.0002970125828007262,
          0.0002948090959139386,
          0.00029286402678903057,
          0.0002911725148941809,
          0.00028972956624345525,
          0.00028853005204360955,
          0.00028756870763897035,
          0.0002868401317772626,
          0.00028633878621787083,
          0.0002860589957025382,
          0.000285994948306937,
          0.00028614069618988704,
          0.00028649015675526873,
          0.00028703711423987317,
          0.0002877752217385666,
          0.00028869800367622615,
          0.0002897988587339314,
          0.0002910710632348905,
          0.00029250777499353594,
          0.0002941020376291605,
          0.0002958467853433863,
          0.00029773484815867114,
          0.0002997589576129778,
          0.00030191175290365563,
          0.0003041857874715394,
          0.00030657353601424154,
          0.0003090674019156391,
          0.00031165972507661365,
          0.00031434279013022775,
          0.00031710883502269967,
          0.00031995005993980117,
          0.00032285863655663036,
          0.0003258267175871451,
          0.0003288464466083519,
          0.0003319099681326756,
          0.00033500943790075634,
          0.0003381370333657681,
          0.0003412849643393195,
          0.00034444548376807543,
          0.00034761089860947257,
          0.0003507735807742333,
          0.0003539259781028865,
          0.0003570606253431159,
          0.00036017015509453307,
          0.00036324730868736986,
          0.0003662849469616449,
          0.0003692760609135413,
          0.00037221378217607265,
          0.0003750913933015811,
          0.00037790233781422635,
          0.000380640230001357,
          0.00038329886441354786,
          0.00038587222504406405,
          0.0003883544941596509,
          0.00039074006075577735,
          0.0003930235286108078,
          0.00039519972391502585,
          0.0003972637024519732,
          0.00039921075631121054,
          0.0004010364201132968,
          0.00040273647672959254,
          0.00040430696248131134,
          0.00040574417180416024,
          0.0004070446613668412,
          0.00040820525363366596,
          0.0004092230398635333,
          0.00041009538253953973,
          0.00041081991722550674,
          0.0004113945538477334,
          0.0004118174774022762,
          0.0004120871480900467,
          0.00041220230088395563,
          0.00041216194453424327,
          0.00041196536001998754,
          0.00041161209845658013,
          0.00041110197847068976,
          0.0004104350830558902,
          0.00040961175592370665,
          0.0004086325973663232,
          0.00040749845964859225,
          0.0004062104419482838,
          0.00040476988486471354,
          0.0004031783645169705,
          0.0004014376862539554,
          0.00039954987799929726,
          0.0003975171832549794,
          0.0003953420537881301,
          0.0003930271420259669,
          0.00039057529318427275,
          0.00038798953715507903,
          0.0003852730801793948,
          0.0003824292963308869,
          0.00037946171883635355,
          0.000376374031258683,
          0.0003731700585677165,
          0.0003698537581240774,
          0.0003664292106005565,
          0.0003629006108651038,
          0.0003592722588488295,
          0.0003555485504217088,
          0.0003517339682978845,
          0.0003478330729916109,
          0.0003438504938439579,
          0.00033979092013942393,
          0.0003356590923305784,
          0.000331459793387799,
          0.0003271978402900665,
          0.0003228780756716647,
          0.0003185053596384738,
          0.0003140845617664144,
          0.0003096205532934067,
          0.00030511819951507585,
          0.00030058235239324883,
          0.0002960178433851734,
          0.0002914294765002368,
          0.00028682202158988374,
          0.0002822002078753347,
          0.00027756871771669744,
          0.00027293218062603034,
          0.00026829516752599014,
          0.0002636621852547532,
          0.0002590376713170713,
          0.0002544259888804793,
          0.00024983142201494914,
          0.0002452581711735569,
          0.00024071034891112313,
          0.00023619197583717963,
          0.0002317069767991183,
          0.00022725917729091096,
          0.00022285230008240432,
          0.00021848996206384828,
          0.0002141756713000552,
          0.00020991282428836503,
          0.00020570470341444433,
          0.00020155447459983562,
          0.00019746518513513963,
          0.0001934397616927109,
          0.0001894810085128098,
          0.00018559160575724664,
          0.00018177410802470783,
          0.00017803094302213255,
          0.00017436441038673982,
          0.0001707766806535437,
          0.00016726979436350623,
          0.00016384566130776127,
          0.00016050605990370118,
          0.0001572526366990472,
          0.00015408690600041727,
          0.00015101024962325705,
          0.00014802391676041026,
          0.00014512902396696857,
          0.00014232655525945665,
          0.00013961736232776705,
          0.00013700216485866063,
          0.00013448155096999412,
          0.00013205597775521225,
          0.00012972577193795688,
          0.0001274911306369827,
          0.00012535212224184516,
          0.00012330868740011521,
          0.00012136064011710132,
          0.00011950766896928451,
          0.00011774933843284775,
          0.00011608509032883557,
          0.00011451424538658981,
          0.00011303600492719172,
          0.00011164945266868056,
          0.00011035355665482901,
          0.0001091471713092186,
          0.000108029039616295,
          0.00010699779543097166,
          0.00010605196591820796,
          0.00010518997412380468,
          0.0001044101416774421,
          0.00010371069162873212,
          0.00010308975141676827,
          0.00010254535597333488,
          0.00010207545095958692,
          0.00010167789613562797,
          0.00010135046886200629,
          0.0001010908677317126,
          0.000100896716330807,
          0.00010076556712532332,
          0.00010069490547160345,
          0.0001006821537467023,
          0.00010072467559498178,
          0.00010081978028647829,
          0.00010096472718208917,
          0.00010115673030008364,
          0.00010139296297789857,
          0.00010167056262264543,
          0.00010198663554321897,
          0.00010233826185638036,
          0.00010272250045867682,
          0.00010313639405556938,
          0.00010357697423866758,
          0.00010404126660152223,
          0.00010452629588400186,
          0.00010502909113488644,
          0.00010554669088194707,
          0.00010607614829845416,
          0.0001066145363547619,
          0.00010715895294336798,
          0.0001077065259656339,
          0.00010825441836818516,
          0.00010879983311688685,
          0.00010934001809621698,
          0.00010987227092182947,
          0.00011039394365412291,
          0.00011090244740070065,
          0.00011139525679573237,
          0.00011186991434439802,
          0.00011232403462082108,
          0.00011275530830817088,
          0.0001131615060699408,
          0.000113540482241781,
          0.00011389017833368917,
          0.00011420862633283056,
          0.00011449395179777536,
          0.00011474437673549868,
          0.00011495822225308866,
          0.00011513391097674898,
          0.00011526996923135586,
          0.00011536502897454121,
          0.00011541782948001238,
          0.00011542721876558895,
          0.00011539215476222851,
          0.00011531170622112723,
          0.00011518505335681181
         ],
         "yaxis": "y"
        }
       ],
       "layout": {
        "barmode": "overlay",
        "hovermode": "closest",
        "legend": {
         "traceorder": "reversed"
        },
        "template": {
         "data": {
          "bar": [
           {
            "error_x": {
             "color": "#2a3f5f"
            },
            "error_y": {
             "color": "#2a3f5f"
            },
            "marker": {
             "line": {
              "color": "#E5ECF6",
              "width": 0.5
             },
             "pattern": {
              "fillmode": "overlay",
              "size": 10,
              "solidity": 0.2
             }
            },
            "type": "bar"
           }
          ],
          "barpolar": [
           {
            "marker": {
             "line": {
              "color": "#E5ECF6",
              "width": 0.5
             },
             "pattern": {
              "fillmode": "overlay",
              "size": 10,
              "solidity": 0.2
             }
            },
            "type": "barpolar"
           }
          ],
          "carpet": [
           {
            "aaxis": {
             "endlinecolor": "#2a3f5f",
             "gridcolor": "white",
             "linecolor": "white",
             "minorgridcolor": "white",
             "startlinecolor": "#2a3f5f"
            },
            "baxis": {
             "endlinecolor": "#2a3f5f",
             "gridcolor": "white",
             "linecolor": "white",
             "minorgridcolor": "white",
             "startlinecolor": "#2a3f5f"
            },
            "type": "carpet"
           }
          ],
          "choropleth": [
           {
            "colorbar": {
             "outlinewidth": 0,
             "ticks": ""
            },
            "type": "choropleth"
           }
          ],
          "contour": [
           {
            "colorbar": {
             "outlinewidth": 0,
             "ticks": ""
            },
            "colorscale": [
             [
              0,
              "#0d0887"
             ],
             [
              0.1111111111111111,
              "#46039f"
             ],
             [
              0.2222222222222222,
              "#7201a8"
             ],
             [
              0.3333333333333333,
              "#9c179e"
             ],
             [
              0.4444444444444444,
              "#bd3786"
             ],
             [
              0.5555555555555556,
              "#d8576b"
             ],
             [
              0.6666666666666666,
              "#ed7953"
             ],
             [
              0.7777777777777778,
              "#fb9f3a"
             ],
             [
              0.8888888888888888,
              "#fdca26"
             ],
             [
              1,
              "#f0f921"
             ]
            ],
            "type": "contour"
           }
          ],
          "contourcarpet": [
           {
            "colorbar": {
             "outlinewidth": 0,
             "ticks": ""
            },
            "type": "contourcarpet"
           }
          ],
          "heatmap": [
           {
            "colorbar": {
             "outlinewidth": 0,
             "ticks": ""
            },
            "colorscale": [
             [
              0,
              "#0d0887"
             ],
             [
              0.1111111111111111,
              "#46039f"
             ],
             [
              0.2222222222222222,
              "#7201a8"
             ],
             [
              0.3333333333333333,
              "#9c179e"
             ],
             [
              0.4444444444444444,
              "#bd3786"
             ],
             [
              0.5555555555555556,
              "#d8576b"
             ],
             [
              0.6666666666666666,
              "#ed7953"
             ],
             [
              0.7777777777777778,
              "#fb9f3a"
             ],
             [
              0.8888888888888888,
              "#fdca26"
             ],
             [
              1,
              "#f0f921"
             ]
            ],
            "type": "heatmap"
           }
          ],
          "heatmapgl": [
           {
            "colorbar": {
             "outlinewidth": 0,
             "ticks": ""
            },
            "colorscale": [
             [
              0,
              "#0d0887"
             ],
             [
              0.1111111111111111,
              "#46039f"
             ],
             [
              0.2222222222222222,
              "#7201a8"
             ],
             [
              0.3333333333333333,
              "#9c179e"
             ],
             [
              0.4444444444444444,
              "#bd3786"
             ],
             [
              0.5555555555555556,
              "#d8576b"
             ],
             [
              0.6666666666666666,
              "#ed7953"
             ],
             [
              0.7777777777777778,
              "#fb9f3a"
             ],
             [
              0.8888888888888888,
              "#fdca26"
             ],
             [
              1,
              "#f0f921"
             ]
            ],
            "type": "heatmapgl"
           }
          ],
          "histogram": [
           {
            "marker": {
             "pattern": {
              "fillmode": "overlay",
              "size": 10,
              "solidity": 0.2
             }
            },
            "type": "histogram"
           }
          ],
          "histogram2d": [
           {
            "colorbar": {
             "outlinewidth": 0,
             "ticks": ""
            },
            "colorscale": [
             [
              0,
              "#0d0887"
             ],
             [
              0.1111111111111111,
              "#46039f"
             ],
             [
              0.2222222222222222,
              "#7201a8"
             ],
             [
              0.3333333333333333,
              "#9c179e"
             ],
             [
              0.4444444444444444,
              "#bd3786"
             ],
             [
              0.5555555555555556,
              "#d8576b"
             ],
             [
              0.6666666666666666,
              "#ed7953"
             ],
             [
              0.7777777777777778,
              "#fb9f3a"
             ],
             [
              0.8888888888888888,
              "#fdca26"
             ],
             [
              1,
              "#f0f921"
             ]
            ],
            "type": "histogram2d"
           }
          ],
          "histogram2dcontour": [
           {
            "colorbar": {
             "outlinewidth": 0,
             "ticks": ""
            },
            "colorscale": [
             [
              0,
              "#0d0887"
             ],
             [
              0.1111111111111111,
              "#46039f"
             ],
             [
              0.2222222222222222,
              "#7201a8"
             ],
             [
              0.3333333333333333,
              "#9c179e"
             ],
             [
              0.4444444444444444,
              "#bd3786"
             ],
             [
              0.5555555555555556,
              "#d8576b"
             ],
             [
              0.6666666666666666,
              "#ed7953"
             ],
             [
              0.7777777777777778,
              "#fb9f3a"
             ],
             [
              0.8888888888888888,
              "#fdca26"
             ],
             [
              1,
              "#f0f921"
             ]
            ],
            "type": "histogram2dcontour"
           }
          ],
          "mesh3d": [
           {
            "colorbar": {
             "outlinewidth": 0,
             "ticks": ""
            },
            "type": "mesh3d"
           }
          ],
          "parcoords": [
           {
            "line": {
             "colorbar": {
              "outlinewidth": 0,
              "ticks": ""
             }
            },
            "type": "parcoords"
           }
          ],
          "pie": [
           {
            "automargin": true,
            "type": "pie"
           }
          ],
          "scatter": [
           {
            "marker": {
             "colorbar": {
              "outlinewidth": 0,
              "ticks": ""
             }
            },
            "type": "scatter"
           }
          ],
          "scatter3d": [
           {
            "line": {
             "colorbar": {
              "outlinewidth": 0,
              "ticks": ""
             }
            },
            "marker": {
             "colorbar": {
              "outlinewidth": 0,
              "ticks": ""
             }
            },
            "type": "scatter3d"
           }
          ],
          "scattercarpet": [
           {
            "marker": {
             "colorbar": {
              "outlinewidth": 0,
              "ticks": ""
             }
            },
            "type": "scattercarpet"
           }
          ],
          "scattergeo": [
           {
            "marker": {
             "colorbar": {
              "outlinewidth": 0,
              "ticks": ""
             }
            },
            "type": "scattergeo"
           }
          ],
          "scattergl": [
           {
            "marker": {
             "colorbar": {
              "outlinewidth": 0,
              "ticks": ""
             }
            },
            "type": "scattergl"
           }
          ],
          "scattermapbox": [
           {
            "marker": {
             "colorbar": {
              "outlinewidth": 0,
              "ticks": ""
             }
            },
            "type": "scattermapbox"
           }
          ],
          "scatterpolar": [
           {
            "marker": {
             "colorbar": {
              "outlinewidth": 0,
              "ticks": ""
             }
            },
            "type": "scatterpolar"
           }
          ],
          "scatterpolargl": [
           {
            "marker": {
             "colorbar": {
              "outlinewidth": 0,
              "ticks": ""
             }
            },
            "type": "scatterpolargl"
           }
          ],
          "scatterternary": [
           {
            "marker": {
             "colorbar": {
              "outlinewidth": 0,
              "ticks": ""
             }
            },
            "type": "scatterternary"
           }
          ],
          "surface": [
           {
            "colorbar": {
             "outlinewidth": 0,
             "ticks": ""
            },
            "colorscale": [
             [
              0,
              "#0d0887"
             ],
             [
              0.1111111111111111,
              "#46039f"
             ],
             [
              0.2222222222222222,
              "#7201a8"
             ],
             [
              0.3333333333333333,
              "#9c179e"
             ],
             [
              0.4444444444444444,
              "#bd3786"
             ],
             [
              0.5555555555555556,
              "#d8576b"
             ],
             [
              0.6666666666666666,
              "#ed7953"
             ],
             [
              0.7777777777777778,
              "#fb9f3a"
             ],
             [
              0.8888888888888888,
              "#fdca26"
             ],
             [
              1,
              "#f0f921"
             ]
            ],
            "type": "surface"
           }
          ],
          "table": [
           {
            "cells": {
             "fill": {
              "color": "#EBF0F8"
             },
             "line": {
              "color": "white"
             }
            },
            "header": {
             "fill": {
              "color": "#C8D4E3"
             },
             "line": {
              "color": "white"
             }
            },
            "type": "table"
           }
          ]
         },
         "layout": {
          "annotationdefaults": {
           "arrowcolor": "#2a3f5f",
           "arrowhead": 0,
           "arrowwidth": 1
          },
          "autotypenumbers": "strict",
          "coloraxis": {
           "colorbar": {
            "outlinewidth": 0,
            "ticks": ""
           }
          },
          "colorscale": {
           "diverging": [
            [
             0,
             "#8e0152"
            ],
            [
             0.1,
             "#c51b7d"
            ],
            [
             0.2,
             "#de77ae"
            ],
            [
             0.3,
             "#f1b6da"
            ],
            [
             0.4,
             "#fde0ef"
            ],
            [
             0.5,
             "#f7f7f7"
            ],
            [
             0.6,
             "#e6f5d0"
            ],
            [
             0.7,
             "#b8e186"
            ],
            [
             0.8,
             "#7fbc41"
            ],
            [
             0.9,
             "#4d9221"
            ],
            [
             1,
             "#276419"
            ]
           ],
           "sequential": [
            [
             0,
             "#0d0887"
            ],
            [
             0.1111111111111111,
             "#46039f"
            ],
            [
             0.2222222222222222,
             "#7201a8"
            ],
            [
             0.3333333333333333,
             "#9c179e"
            ],
            [
             0.4444444444444444,
             "#bd3786"
            ],
            [
             0.5555555555555556,
             "#d8576b"
            ],
            [
             0.6666666666666666,
             "#ed7953"
            ],
            [
             0.7777777777777778,
             "#fb9f3a"
            ],
            [
             0.8888888888888888,
             "#fdca26"
            ],
            [
             1,
             "#f0f921"
            ]
           ],
           "sequentialminus": [
            [
             0,
             "#0d0887"
            ],
            [
             0.1111111111111111,
             "#46039f"
            ],
            [
             0.2222222222222222,
             "#7201a8"
            ],
            [
             0.3333333333333333,
             "#9c179e"
            ],
            [
             0.4444444444444444,
             "#bd3786"
            ],
            [
             0.5555555555555556,
             "#d8576b"
            ],
            [
             0.6666666666666666,
             "#ed7953"
            ],
            [
             0.7777777777777778,
             "#fb9f3a"
            ],
            [
             0.8888888888888888,
             "#fdca26"
            ],
            [
             1,
             "#f0f921"
            ]
           ]
          },
          "colorway": [
           "#636efa",
           "#EF553B",
           "#00cc96",
           "#ab63fa",
           "#FFA15A",
           "#19d3f3",
           "#FF6692",
           "#B6E880",
           "#FF97FF",
           "#FECB52"
          ],
          "font": {
           "color": "#2a3f5f"
          },
          "geo": {
           "bgcolor": "white",
           "lakecolor": "white",
           "landcolor": "#E5ECF6",
           "showlakes": true,
           "showland": true,
           "subunitcolor": "white"
          },
          "hoverlabel": {
           "align": "left"
          },
          "hovermode": "closest",
          "mapbox": {
           "style": "light"
          },
          "paper_bgcolor": "white",
          "plot_bgcolor": "#E5ECF6",
          "polar": {
           "angularaxis": {
            "gridcolor": "white",
            "linecolor": "white",
            "ticks": ""
           },
           "bgcolor": "#E5ECF6",
           "radialaxis": {
            "gridcolor": "white",
            "linecolor": "white",
            "ticks": ""
           }
          },
          "scene": {
           "xaxis": {
            "backgroundcolor": "#E5ECF6",
            "gridcolor": "white",
            "gridwidth": 2,
            "linecolor": "white",
            "showbackground": true,
            "ticks": "",
            "zerolinecolor": "white"
           },
           "yaxis": {
            "backgroundcolor": "#E5ECF6",
            "gridcolor": "white",
            "gridwidth": 2,
            "linecolor": "white",
            "showbackground": true,
            "ticks": "",
            "zerolinecolor": "white"
           },
           "zaxis": {
            "backgroundcolor": "#E5ECF6",
            "gridcolor": "white",
            "gridwidth": 2,
            "linecolor": "white",
            "showbackground": true,
            "ticks": "",
            "zerolinecolor": "white"
           }
          },
          "shapedefaults": {
           "line": {
            "color": "#2a3f5f"
           }
          },
          "ternary": {
           "aaxis": {
            "gridcolor": "white",
            "linecolor": "white",
            "ticks": ""
           },
           "baxis": {
            "gridcolor": "white",
            "linecolor": "white",
            "ticks": ""
           },
           "bgcolor": "#E5ECF6",
           "caxis": {
            "gridcolor": "white",
            "linecolor": "white",
            "ticks": ""
           }
          },
          "title": {
           "x": 0.05
          },
          "xaxis": {
           "automargin": true,
           "gridcolor": "white",
           "linecolor": "white",
           "ticks": "",
           "title": {
            "standoff": 15
           },
           "zerolinecolor": "white",
           "zerolinewidth": 2
          },
          "yaxis": {
           "automargin": true,
           "gridcolor": "white",
           "linecolor": "white",
           "ticks": "",
           "title": {
            "standoff": 15
           },
           "zerolinecolor": "white",
           "zerolinewidth": 2
          }
         }
        },
        "title": {
         "text": "Total Microfilm Reels Shipped compared to Total Cerifications"
        },
        "xaxis": {
         "anchor": "y2",
         "domain": [
          0,
          1
         ],
         "title": {
          "text": "Total Microfilm Reels Shipped"
         },
         "zeroline": false
        },
        "yaxis": {
         "anchor": "free",
         "domain": [
          0,
          1
         ],
         "position": 0
        }
       }
      },
      "text/html": [
       "<div>                            <div id=\"30c61f80-d9a6-416a-b498-f067e9455e37\" class=\"plotly-graph-div\" style=\"height:525px; width:100%;\"></div>            <script type=\"text/javascript\">                require([\"plotly\"], function(Plotly) {                    window.PLOTLYENV=window.PLOTLYENV || {};                                    if (document.getElementById(\"30c61f80-d9a6-416a-b498-f067e9455e37\")) {                    Plotly.newPlot(                        \"30c61f80-d9a6-416a-b498-f067e9455e37\",                        [{\"legendgroup\":\"Under 45 \",\"marker\":{\"color\":\"rgb(31, 119, 180)\"},\"mode\":\"lines\",\"name\":\"Under 45 \",\"showlegend\":true,\"x\":[24.0,25.094,26.188,27.282,28.376,29.47,30.564,31.658,32.752,33.846000000000004,34.94,36.034,37.128,38.222,39.316,40.41,41.504000000000005,42.598,43.692,44.786,45.879999999999995,46.974000000000004,48.068,49.162,50.256,51.35,52.444,53.538,54.632000000000005,55.726,56.82,57.914,59.008,60.102,61.196,62.29,63.384,64.47800000000001,65.572,66.666,67.75999999999999,68.854,69.94800000000001,71.042,72.136,73.22999999999999,74.324,75.418,76.512,77.606,78.7,79.794,80.888,81.982,83.076,84.17,85.26400000000001,86.358,87.452,88.546,89.64,90.734,91.828,92.922,94.016,95.11,96.204,97.298,98.392,99.486,100.58,101.674,102.768,103.862,104.956,106.05,107.144,108.238,109.332,110.426,111.52,112.614,113.708,114.802,115.896,116.99,118.084,119.178,120.272,121.366,122.46,123.554,124.648,125.742,126.836,127.93,129.024,130.118,131.212,132.30599999999998,133.4,134.494,135.588,136.68200000000002,137.776,138.87,139.964,141.058,142.152,143.24599999999998,144.34,145.434,146.52800000000002,147.622,148.716,149.81,150.904,151.998,153.092,154.186,155.28,156.374,157.468,158.562,159.656,160.75,161.844,162.938,164.032,165.126,166.22,167.314,168.408,169.502,170.596,171.69,172.784,173.878,174.972,176.066,177.16,178.254,179.348,180.442,181.536,182.63,183.724,184.818,185.912,187.006,188.1,189.194,190.288,191.382,192.476,193.57,194.664,195.758,196.852,197.946,199.04,200.134,201.228,202.322,203.416,204.51,205.604,206.698,207.792,208.886,209.98,211.074,212.168,213.262,214.356,215.45,216.544,217.638,218.732,219.826,220.92,222.014,223.108,224.202,225.296,226.39,227.484,228.578,229.672,230.766,231.86,232.954,234.048,235.142,236.236,237.33,238.424,239.518,240.612,241.706,242.8,243.894,244.988,246.082,247.176,248.27,249.364,250.458,251.552,252.646,253.74,254.834,255.928,257.022,258.116,259.21000000000004,260.304,261.398,262.49199999999996,263.586,264.68,265.774,266.868,267.962,269.05600000000004,270.15,271.244,272.33799999999997,273.432,274.526,275.62,276.714,277.808,278.902,279.996,281.09,282.184,283.278,284.372,285.466,286.56,287.654,288.748,289.842,290.936,292.03,293.124,294.218,295.312,296.406,297.5,298.594,299.688,300.782,301.876,302.97,304.064,305.158,306.252,307.346,308.44,309.534,310.628,311.722,312.816,313.91,315.004,316.098,317.192,318.286,319.38,320.474,321.568,322.662,323.756,324.85,325.944,327.038,328.132,329.226,330.32,331.414,332.508,333.602,334.696,335.79,336.884,337.978,339.072,340.166,341.26,342.354,343.448,344.542,345.636,346.73,347.824,348.918,350.012,351.106,352.2,353.294,354.388,355.482,356.576,357.67,358.764,359.858,360.952,362.046,363.14,364.234,365.328,366.422,367.516,368.61,369.704,370.798,371.892,372.986,374.08,375.174,376.268,377.362,378.456,379.55,380.644,381.738,382.832,383.926,385.02,386.114,387.208,388.302,389.396,390.49,391.584,392.678,393.772,394.866,395.96,397.054,398.148,399.242,400.336,401.43,402.524,403.618,404.712,405.806,406.9,407.994,409.088,410.182,411.276,412.37,413.464,414.558,415.652,416.746,417.84,418.934,420.028,421.122,422.216,423.31,424.404,425.498,426.592,427.686,428.78,429.874,430.968,432.062,433.156,434.25,435.344,436.438,437.532,438.626,439.72,440.814,441.908,443.002,444.096,445.19,446.284,447.378,448.472,449.566,450.66,451.754,452.848,453.942,455.036,456.13,457.224,458.318,459.412,460.506,461.6,462.694,463.788,464.882,465.976,467.07,468.164,469.258,470.352,471.446,472.54,473.634,474.728,475.822,476.916,478.01,479.104,480.198,481.292,482.386,483.48,484.574,485.668,486.762,487.856,488.95,490.044,491.138,492.232,493.326,494.42,495.514,496.608,497.702,498.796,499.89,500.984,502.078,503.172,504.266,505.36,506.454,507.548,508.642,509.736,510.83,511.924,513.018,514.1120000000001,515.206,516.3,517.394,518.488,519.582,520.6759999999999,521.77,522.864,523.9580000000001,525.052,526.146,527.24,528.3340000000001,529.428,530.5219999999999,531.616,532.71,533.804,534.898,535.992,537.086,538.18,539.274,540.368,541.462,542.556,543.65,544.744,545.838,546.932,548.026,549.12,550.214,551.308,552.402,553.496,554.59,555.684,556.778,557.872,558.966,560.06,561.154,562.248,563.342,564.436,565.53,566.624,567.718,568.812,569.906],\"xaxis\":\"x\",\"y\":[0.0012836584496841302,0.0013066202772295753,0.001329701563067273,0.0013528963686009307,0.0013761987026869205,0.0013996025274671557,0.0014231017641834847,0.0014466902989586905,0.0014703619885292265,0.0014941106659148962,0.0015179301460108152,0.0015418142310871731,0.0015657567161825,0.0015897513943764804,0.0016137920619286104,0.0016378725232694185,0.001661986595831351,0.0016861281147069222,0.0017102909371222,0.0017344689467143084,0.0017586560576021675,0.001782846218240394,0.0018070334150469202,0.0018312116757956388,0.0018553750727661473,0.0018795177256434102,0.001903633804161044,0.0019277175304827604,0.0019517631813173529,0.0019757650897635694,0.0019997176468821223,0.0020236153029930147,0.0020474525686973322,0.0020712240156236625,0.0020949242769002095,0.0021185480473547443,0.0021420900834454295,0.002165545202926651,0.002188908284254877,0.0022121742657405987,0.0022353381444533476,0.0022583949748877456,0.0022813398673994533,0.0023041679864208345,0.002326874548466956,0.0023494548199434933,0.002371904114768872,0.002394217791823743,0.0024163912522417175,0.002438419936555911,0.0024602993217165327,0.0024820249179954164,0.0025035922657938472,0.002524996932370701,0.002546234508508191,0.002567300605133109,0.0025881908499115944,0.002608900883835937,0.00262942635782197,0.002649762929335909,0.0026699062590694747,0.0026898520076822094,0.0027095958326299064,0.0027291333850978684,0.0027484603070576014,0.0027675722284653138,0.0027864647646202692,0.002805133513700666,0.002823574054494275,0.002841781944340626,0.0028597527173008534,0.00287748188257082,0.0028949649231523452,0.0029121972947966806,0.002929174425233537,0.002945891713698138,0.0029623445307678823,0.002978528218519145,0.0029944380910139194,0.003010069435124731,0.0030254175117053967,0.0030404775571138973,0.0030552447850925387,0.0030697143890094695,0.003083881544464222,0.0030977414122589,0.0031112891417352357,0.003124519874476558,0.0031374287483723886,0.0031500109020420643,0.0031622614796125888,0.003174175635844492,0.0031857485415983317,0.0031969753896330484,0.0032078514007262593,0.0032183718301052387,0.0032285319741761527,0.0032383271775378955,0.0032477528402657494,0.003256804425448902,0.0032654774669648233,0.0032737675774723767,0.003281670456604641,0.0032891818993413236,0.0032962978045398814,0.0033030141836034982,0.003309327169263369,0.0033152330244519235,0.0033207281512430496,0.0033258090998347016,0.0033304725775487776,0.0033347154578227,0.0033385347891667447,0.0033419278040608302,0.003344891927764271,0.0033474247870118423,0.003349524218569406,0.0033511882776223537,0.0033524152459702434,0.0033532036400010954,0.0033535522184191496,0.0033534599897001053,0.0033529262192483825,0.0033519504362313143,0.0033505324400658655,0.0033486723065339805,0.003346370393503488,0.0033436273462322617,0.003340444102234127,0.003336821895686066,0.003332762261357145,0.0033282670380408055,0.0033233383714731425,0.003317978716721127,0.0033121908400259035,0.003305977820087642,0.0032993430487797512,0.0032922902312817184,0.003284823385621267,0.0032769468416180094,0.003268665239222316,0.003259983526244706,0.0032509069554726056,0.003241441081172984,0.0032315917549809755,0.003221365121176267,0.00321076761135067,0.0031998059384719725,0.00318848709035081,0.0031768183225189765,0.003164807150529212,0.0031524613416881748,0.0031397889062358894,0.0031267980879865686,0.003113497354447237,0.0030998953864321962,0.0030860010671927324,0.003071823471083043,0.0030573718517846503,0.003042655630113027,0.003027684381431318,0.0030124678226974184,0.002997015799171708,0.0029813382708139555,0.002965445298398812,0.0029493470293803946,0.00293305368353724,0.0029165755384297303,0.0028999229147028387,0.002883106161267598,0.002866135640395279,0.0028490217127586804,0.0028317747224553187,0.0028144049820474767,0.0027969227576543202,0.002779338254131289,0.002761661600371962,0.002743902834767411,0.0027260718908578775,0.0027081785832112526,0.002690232593562353,0.0026722434572465266,0.002654220549960455,0.0026361730748822817,0.002618110050182409,0.0026000402969553428,0.0025819724276020337,0.002563914834691,0.002545875680325377,0.0025278628860418008,0.0025098841232656494,0.0024919468043458,0.00247405807419055,0.002456224802524811,0.0024384535767870814,0.0024207506956830517,0.002403122163410885,0.002385573684571577,0.0023681106597759063,0.0023507381819576124,0.0023334610334006314,0.00231628368348624,0.002299210287164068,0.002282244684148954,0.002265390398843712,0.0022486506409858573,0.002232028307014407,0.0022155259821509455,0.002199145943187157,0.002182890161969141,0.002166760309566923,0.002150757761115742,0.0021348836013137975,0.002119138630559482,0.002103523371709258,0.002088038077435776,0.002072682738164145,0.002057457090562725,0.00204236062656338,0.00202739260288462,0.0020125520510298465,0.001997837787731565,0.001983248425811346,0.0019687823854241827,0.0019544379056549554,0.001940213056433823,0.0019261057507365515,0.0019121137570351516,0.0018982347119635861,0.001884466133162856,0.0018708054322693743,0.0018572499280103422,0.0018437968593696089,0.0018304433987875379,0.0018171866653583907,0.001804023737988987,0.0017909516684826215,0.001777967494512642,0.0017650682524505737,0.0017522509900142612,0.001739512778702223,0.0017268507259811563,0.0017142619871944767,0.0017017437771607085,0.001689293381431636,0.0016769081671812653,0.0016645855936978876,0.0016523232224528418,0.0016401187267209272,0.0016279699007289356,0.0016158746683101778,0.0016038310910445365,0.0015918373758651435,0.0015798918821144548,0.0015679931280341952,0.001556139796675392,0.0015443307412164645,0.001532564989679139,0.0015208417490337578,0.001509160408687369,0.0014975205433497894,0.0014859219152746912,0.0014743644758745257,0.0014628483667099392,0.0014513739198561,0.001439941657650121,0.0014285522918254861,0.0014172067220410965,0.0014059060338141977,0.0013946514958680727,0.001383444556906934,0.0013722868418319795,0.0013611801474140129,0.0013501264374394207,0.0013391278373476381,0.0013281866283794813,0.0013173052412569061,0.0013064862494158707,0.0012957323618150158,0.0012850464153438131,0.0012744313668547247,0.0012638902848446836,0.0012534263408119266,0.0012430428003148098,0.0012327430137597985,0.0012225304069462233,0.001212408471395792,0.0012023807544950978,0.0011924508494795508,0.0011826223852872675,0.0011728990163114438,0.001163284412079718,0.0011537822468888092,0.0011443961894225705,0.0011351298923812125,0.0011259869821491338,0.0011169710485282997,0.0011080856345636145,0.0010993342264861293,0.00109072024379928,0.001082247029532635,0.0010739178406868654,0.0010657358388928314,0.0010577040813067916,0.0010498255117628418,0.0010421029522027188,0.001034539094402113,0.001027136492011596,0.0010198975529292073,0.0010128245320206591,0.0010059195242020059,0.0009991844578984914,0.0009926210888921403,0.0009862309945695162,0.0009800155685798912,0.0009739760159129132,0.0009681133484036911,0.0009624283806720509,0.0009569217265015558,0.000951593795662756,0.0009464447911839689,0.0009414747070718038,0.0009366833264825216,0.0009320702203442644,0.0009276347464291151,0.0009233760488729313,0.0009192930581399015,0.0009153844914277856,0.0009116488535088864,0.0009080844380008732,0.0009046893290607229,0.0009014614034942078,0.0008983983332725614,0.0008954975884471996,0.0008927564404526442,0.0008901719657871425,0.000887741050059804,0.0008854603923925049,0.0008833265101642343,0.0008813357440850486,0.0008794842635863141,0.0008777680725134923,0.0008761830151073067,0.0008747247822587895,0.0008733889180233741,0.0008721708263789189,0.0008710657782123115,0.0008700689185190784,0.000869175273800269,0.0008683797596407306,0.000867677188452796,0.0008670622773693265,0.0008665296562700151,0.0008660738759248475,0.0008656894162386299,0.0008653706945805476,0.0008651120741827875,0.0008649078725923633,0.0008647523701603987,0.0008646398185532848,0.000864564449270287,0.0008645204821523817,0.0008645021338673071,0.0008645036263560541,0.000864519195226269,0.000864543098078314,0.0008645696227500192,0.0008645930954664557,0.0008646078888813873,0.0008646084299973833,0.0008645892079519242,0.0008645447816571928,0.0008644697872816114,0.000864358945561569,0.0008642070689321892,0.0008640090684663715,0.0008637599606117787,0.000863454873715854,0.0008630890543293892,0.0008626578732796134,0.000862156831504215,0.0008615815656381804,0.0008609278533457924,0.0008601916183906076,0.0008593689354367206,0.0008584560345751027,0.0008574493055693029,0.0008563453018152996,0.0008551407440107967,0.0008538325235297661,0.0008524177054985627,0.0008508935315704485,0.0008492574223958954,0.0008475069797865536,0.0008456399885713137,0.0008436544181434131,0.0008415484236980746,0.0008393203471607055,0.0008369687178062074,0.0008344922525704943,0.0008318898560558439,0.0008291606202322422,0.0008263038238374013,0.0008233189314786712,0.0008202055924405741,0.0008169636392022121,0.0008135930856693052,0.0008100941251261256,0.0008064671279130763,0.0008027126388361613,0.0007988313743150598,0.0007948242192769805,0.000790692223803929,0.0007864365995414545,0.0007820587158773621,0.0007775600958992941,0.0007729424121404649,0.0007682074821232069,0.0007633572637103524,0.0007583938502747911,0.0007533194656978719,0.0007481364592076011,0.0007428473000678638,0.0007374545721301356,0.0007319609682593742,0.0007263692846459812,0.000720682415015883,0.0007149033447509379,0.0007090351449319795,0.0007030809663168996,0.0006970440332662341,0.0006909276376287487,0.0006847351325995207,0.0006784699265629785,0.0006721354769333296,0.000665735284004687,0.0006592728848231216,0.0006527518470927072,0.000646175763127449,0.0006395482438608074,0.0006328729129242654,0.0006261534008061714,0.0006193933391017639,0.0006125963548650146,0.0006057660650725544,0.0005989060712096183,0.0005920199539875419,0.0005851112682019352,0.0005781835377402576,0.0005712402507470311,0.0005642848549544944,0.0005573207531860086,0.0005503512990390153,0.0005433797927538452,0.0005364094772741389,0.0005294435345041224,0.0005224850817673993,0.000515537168471393,0.0005086027729809992,0.0005016847997044376,0.0004947860763937305,0.0004879093516616581,0.00048105729271646593,0.00047423248331503686,0.00046743742193468475,0.0004606745201631427,0.00045394610130578786,0.0004472543992085991,0.0004406015572948105,0.00043398962781269514,0.0004274205712914327,0.0004208962562014868,0.00041441845881549585,0.0004079888632651684,0.00040160906178928363,0.000395280555167467,0.00038900475333400437,0.0003827829761656168,0.0003766164544367366,0.0003705063309355385,0.0003644536617336457,0.00035845941760220167,0.00035252448556670956,0.0003466496705928564,0.0003408356973953423,0.00033508321236155316,0.0003293927855818151,0.000323764912977822,0.0003182000185207887,0.00031269845653079167,0.0003072605140487745,0.0003018864132726568,0.0002965763140490551,0.00029133031641214677,0.0002861484631613066,0.0002810307424692548,0.00027597709051256213,0.0002709873941165422,0.00026606149340670167,0.00026119918445915275],\"yaxis\":\"y\",\"type\":\"scatter\"},{\"legendgroup\":\"Over 45\",\"marker\":{\"color\":\"rgb(255, 127, 14)\"},\"mode\":\"lines\",\"name\":\"Over 45\",\"showlegend\":true,\"x\":[45.0,46.458,47.916,49.374,50.832,52.29,53.748,55.206,56.664,58.122,59.58,61.038,62.495999999999995,63.954,65.412,66.87,68.328,69.786,71.244,72.702,74.16,75.618,77.076,78.53399999999999,79.99199999999999,81.45,82.908,84.366,85.824,87.282,88.74000000000001,90.19800000000001,91.656,93.114,94.572,96.03,97.488,98.946,100.404,101.862,103.32,104.77799999999999,106.23599999999999,107.694,109.152,110.61,112.068,113.526,114.984,116.442,117.9,119.358,120.816,122.274,123.732,125.19,126.648,128.106,129.564,131.022,132.48000000000002,133.938,135.39600000000002,136.85399999999998,138.312,139.76999999999998,141.228,142.686,144.144,145.602,147.06,148.518,149.976,151.434,152.892,154.35,155.808,157.26600000000002,158.724,160.18200000000002,161.64,163.098,164.55599999999998,166.014,167.47199999999998,168.93,170.388,171.846,173.304,174.762,176.22,177.678,179.136,180.594,182.052,183.51,184.968,186.426,187.884,189.342,190.8,192.258,193.716,195.174,196.632,198.09,199.548,201.006,202.464,203.922,205.38,206.838,208.296,209.754,211.212,212.67,214.128,215.586,217.044,218.502,219.96,221.418,222.876,224.334,225.792,227.25,228.708,230.166,231.624,233.082,234.54,235.998,237.456,238.914,240.372,241.83,243.288,244.746,246.204,247.662,249.12,250.578,252.036,253.494,254.952,256.40999999999997,257.868,259.326,260.784,262.24199999999996,263.7,265.158,266.616,268.074,269.53200000000004,270.99,272.448,273.906,275.36400000000003,276.822,278.28,279.738,281.196,282.654,284.11199999999997,285.57,287.028,288.486,289.94399999999996,291.402,292.86,294.318,295.776,297.23400000000004,298.692,300.15,301.608,303.066,304.524,305.982,307.44,308.898,310.356,311.814,313.272,314.73,316.188,317.646,319.104,320.562,322.02,323.478,324.936,326.394,327.852,329.31,330.768,332.226,333.684,335.142,336.6,338.058,339.516,340.974,342.432,343.89,345.348,346.806,348.264,349.722,351.18,352.638,354.096,355.554,357.012,358.47,359.928,361.386,362.844,364.302,365.76,367.218,368.676,370.134,371.592,373.05,374.508,375.966,377.424,378.882,380.34,381.798,383.256,384.714,386.172,387.63,389.088,390.546,392.004,393.462,394.92,396.378,397.836,399.294,400.752,402.21,403.668,405.126,406.584,408.042,409.5,410.958,412.416,413.874,415.332,416.79,418.248,419.706,421.164,422.622,424.08,425.538,426.996,428.454,429.912,431.37,432.828,434.286,435.744,437.202,438.66,440.118,441.576,443.034,444.492,445.95,447.408,448.866,450.324,451.782,453.24,454.698,456.156,457.614,459.072,460.53,461.988,463.446,464.904,466.362,467.82,469.278,470.736,472.194,473.652,475.11,476.568,478.026,479.484,480.942,482.4,483.858,485.316,486.774,488.232,489.69,491.148,492.606,494.064,495.522,496.98,498.438,499.896,501.354,502.812,504.27,505.728,507.186,508.644,510.102,511.56,513.018,514.476,515.934,517.392,518.85,520.308,521.7660000000001,523.2239999999999,524.682,526.14,527.598,529.056,530.514,531.972,533.4300000000001,534.8879999999999,536.346,537.804,539.262,540.72,542.178,543.636,545.094,546.552,548.01,549.4680000000001,550.9259999999999,552.384,553.842,555.3,556.758,558.216,559.674,561.132,562.59,564.048,565.506,566.964,568.422,569.88,571.338,572.796,574.254,575.712,577.17,578.628,580.086,581.544,583.002,584.46,585.918,587.376,588.834,590.292,591.75,593.208,594.666,596.124,597.582,599.04,600.498,601.956,603.414,604.872,606.33,607.788,609.246,610.704,612.162,613.62,615.078,616.536,617.994,619.452,620.91,622.368,623.826,625.284,626.742,628.2,629.658,631.116,632.574,634.032,635.49,636.948,638.406,639.864,641.322,642.78,644.238,645.696,647.154,648.612,650.07,651.528,652.986,654.444,655.902,657.36,658.818,660.276,661.734,663.192,664.65,666.108,667.566,669.024,670.482,671.94,673.398,674.856,676.314,677.772,679.23,680.688,682.146,683.604,685.062,686.52,687.978,689.436,690.894,692.352,693.81,695.268,696.726,698.184,699.642,701.1,702.558,704.016,705.474,706.932,708.39,709.848,711.306,712.764,714.222,715.68,717.138,718.596,720.054,721.512,722.97,724.428,725.886,727.344,728.802,730.26,731.718,733.176,734.634,736.092,737.55,739.008,740.466,741.924,743.382,744.84,746.298,747.756,749.214,750.672,752.13,753.588,755.046,756.504,757.962,759.42,760.878,762.336,763.794,765.252,766.71,768.168,769.626,771.084,772.542],\"xaxis\":\"x\",\"y\":[0.0014611500015600438,0.001493112321563253,0.0015252706275372802,0.0015576092436229096,0.0015901121097343478,0.0016227628006778134,0.0016555445463723281,0.0016884402531431985,0.0017214325260543496,0.001754503692241296,0.001787635825202245,0.0018208107700005108,0.0018540101693271598,0.0018872154903686416,0.0019204080524200615,0.0019535690551807836,0.0019866796076651962,0.0020197207576578176,0.0020526735216383745,0.00208551891509923,0.002118237983174394,0.002150811831496573,0.0021832216571960644,0.002215448779953079,0.0022474746730129867,0.002279280994072387,0.0023108496159424687,0.002342162656895202,0.0023732025105971852,0.002403951875535785,0.002434393783842233,0.0024645116294169577,0.002494289195263219,0.002523710679936569,0.0025527607230192303,0.002581424429530784,0.002609687393188946,0.0026375357184372744,0.002664956041159926,0.002691935548007396,0.002718461994261195,0.002744523720170027,0.0027701096656948167,0.0027952093836051523,0.0028198130508752294,0.00284391147833322,0.0028674961185240606,0.0028905590717520882,0.002913093090276462,0.0029350915806391708,0.0029565486041124214,0.0029774588752592575,0.002997817758608562,0.0030176212634529373,0.0030368660367852264,0.0030555493543969825,0.0030736691101694467,0.0030912238035949438,0.0031082125255738856,0.003124634942539629,0.003140491278970374,0.0031557822983541038,0.003170509282679064,0.0031846740105285066,0.0031982787338645,0.0032113261535911845,0.0032238193939931625,0.003235761976149687,0.003247157790429781,0.00325801106817749,0.0032683263527001735,0.0032781084696758126,0.00328736249709802,0.003296093734879589,0.0033043076742370055,0.0033120099669795293,0.003319206394826875,0.003325902838879686,0.003332105249366302,0.003337819615788332,0.0033430519375858346,0.0033478081954407893,0.003352094323334744,0.0033559161814733355,0.003359279530186634,0.0033621900049099576,0.0033646530923451636,0.0033666741078971656,0.0033682581744749053,0.0033694102027399097,0.0033701348728792714,0.0033704366179730834,0.003370319609019353,0.0033697877416720905,0.003368844624740666,0.0033674935704907823,0.0033657375867793935,0.0033635793710478784,0.0033610213061895018,0.0033580654582989924,0.0033547135763037925,0.0033509670934682343,0.003346827130753761,0.0033422945020101825,0.0033373697209649732,0.00333205300996987,0.003326344310456446,0.0033202432950449547,0.0033137493812437444,0.0033068617466697676,0.0032995793457143156,0.0032919009275720924,0.0032838250555461005,0.003275350127535602,0.0032664743976097066,0.0032571959985647717,0.0032475129653600737,0.0032374232593228407,0.003226924793011012,0.003216015455619748,0.0032046931388160635,0.003192955762884671,0.0031808013030675455,0.0031682278159795275,0.003155233465982757,0.003141816551403606,0.003127975530477305,0.003113709046907369,0.003099015954929451,0.0030838953437721324,0.0030683465614106268,0.003052369237513192,0.0030359633054842924,0.003019129023513272,0.0030018669945422486,0.002984178185072409,0.002966063942733446,0.00294752601254698,0.002928566551820884,0.002909188143617993,0.0028893938087491762,0.002869187016247644,0.002848571692288105,0.0028275522275215195,0.002806133482803084,0.002784320793298169,0.002762119970957985,0.0027395373053636487,0.0027165795629442487,0.00269325398458128,0.0026695682816184297,0.0026455306303021188,0.002621149664684519,0.002596434468026704,0.002571394562745416,0.0025460398989523786,0.0025203808416402796,0.0024944281565744434,0.0024681929949536925,0.002441686876908116,0.0024149216739052515,0.0023879095901396417,0.0023606631429837345,0.0023331951425807937,0.002305518670662681,0.0022776470586772634,0.002249593865311607,0.0022213728534981464,0.0021929979669916854,0.0021644833066052837,0.0021358431061929187,0.0021070917084663344,0.0020782435407324705,0.0020493130906367113,0.002020314881995473,0.0019912634507997435,0.0019621733214689402,0.0019330589834317962,0.0019039348681082406,0.0018748153263630541,0.001845714606498748,0.001816646832851543,0.0017876259850505654,0.0017586658779963815,0.0017297801426109443,0.0017009822074067382,0.001672285280918596,0.0016437023350371898,0.0016152460892787462,0.0015869289960209316,0.0015587632267303473,0.0015307606592024603,0.0015029328658302899,0.0014752911029136434,0.001447846301016257,0.0014206090563738305,0.0013935896233517016,0.0013667979079467012,0.0013402434623237536,0.0013139354803738804,0.001287882794276532,0.0012620938720456457,0.001236576816035406,0.0012113393623785584,0.0011863888813270728,0.0011617323784622409,0.0011373764967386724,0.0011133275193243581,0.0010895913731967884,0.0010661736334533019,0.0010430795282920758,0.001020313944618821,0.0009978814342329792,0.0009757862205462702,0.00095403220578567,0.000932622978632386,0.0009115618222480652,0.0008908517226393966,0.0008704953773123768,0.0008504952041678083,0.0008308533505901491,0.0008115717026824922,0.0007926518946013752,0.0007740953179461458,0.0007559031311588561,0.0007380762688919976,0.000720615451302953,0.0007035211932356419,0.0006867938132516698,0.0006704334424751307,0.0006544400332172614,0.000638813367349187,0.0006235530643932236,0.0006086585893053959,0.0005941292599241962,0.0005799642540629194,0.000566162616225351,0.0005527232639270095,0.000539644993606582,0.0005269264861147072,0.0005145663117696782,0.0005025629349721495,0.0004909147183733468,0.00047961992659373325,0.0004686767294914464,0.0004580832049822038,0.00044783734141464235,0.00043793703950733176,0.00042838011385585765,0.00041916429402049537,0.00041028722520701597,0.00040174646855512306,0.00039353950105086615,0.00038566371508114654,0.00037811641765009307,0.0003708948292786346,0.0003639960826100551,0.0003574172207456359,0.00035115519533572255,0.0003452068644526314,0.0003395689902728012,0.0003342382365964212,0.00032921116623350503,0.0003244842382859509,0.00032005380535559547,0.00031591611070858896,0.00031206728542661417,0.0003085033455755239,0.00030522018942191287,0.000302213594727917,0.00029947921615421395,0.0002970125828007262,0.0002948090959139386,0.00029286402678903057,0.0002911725148941809,0.00028972956624345525,0.00028853005204360955,0.00028756870763897035,0.0002868401317772626,0.00028633878621787083,0.0002860589957025382,0.000285994948306937,0.00028614069618988704,0.00028649015675526873,0.00028703711423987317,0.0002877752217385666,0.00028869800367622615,0.0002897988587339314,0.0002910710632348905,0.00029250777499353594,0.0002941020376291605,0.0002958467853433863,0.00029773484815867114,0.0002997589576129778,0.00030191175290365563,0.0003041857874715394,0.00030657353601424154,0.0003090674019156391,0.00031165972507661365,0.00031434279013022775,0.00031710883502269967,0.00031995005993980117,0.00032285863655663036,0.0003258267175871451,0.0003288464466083519,0.0003319099681326756,0.00033500943790075634,0.0003381370333657681,0.0003412849643393195,0.00034444548376807543,0.00034761089860947257,0.0003507735807742333,0.0003539259781028865,0.0003570606253431159,0.00036017015509453307,0.00036324730868736986,0.0003662849469616449,0.0003692760609135413,0.00037221378217607265,0.0003750913933015811,0.00037790233781422635,0.000380640230001357,0.00038329886441354786,0.00038587222504406405,0.0003883544941596509,0.00039074006075577735,0.0003930235286108078,0.00039519972391502585,0.0003972637024519732,0.00039921075631121054,0.0004010364201132968,0.00040273647672959254,0.00040430696248131134,0.00040574417180416024,0.0004070446613668412,0.00040820525363366596,0.0004092230398635333,0.00041009538253953973,0.00041081991722550674,0.0004113945538477334,0.0004118174774022762,0.0004120871480900467,0.00041220230088395563,0.00041216194453424327,0.00041196536001998754,0.00041161209845658013,0.00041110197847068976,0.0004104350830558902,0.00040961175592370665,0.0004086325973663232,0.00040749845964859225,0.0004062104419482838,0.00040476988486471354,0.0004031783645169705,0.0004014376862539554,0.00039954987799929726,0.0003975171832549794,0.0003953420537881301,0.0003930271420259669,0.00039057529318427275,0.00038798953715507903,0.0003852730801793948,0.0003824292963308869,0.00037946171883635355,0.000376374031258683,0.0003731700585677165,0.0003698537581240774,0.0003664292106005565,0.0003629006108651038,0.0003592722588488295,0.0003555485504217088,0.0003517339682978845,0.0003478330729916109,0.0003438504938439579,0.00033979092013942393,0.0003356590923305784,0.000331459793387799,0.0003271978402900665,0.0003228780756716647,0.0003185053596384738,0.0003140845617664144,0.0003096205532934067,0.00030511819951507585,0.00030058235239324883,0.0002960178433851734,0.0002914294765002368,0.00028682202158988374,0.0002822002078753347,0.00027756871771669744,0.00027293218062603034,0.00026829516752599014,0.0002636621852547532,0.0002590376713170713,0.0002544259888804793,0.00024983142201494914,0.0002452581711735569,0.00024071034891112313,0.00023619197583717963,0.0002317069767991183,0.00022725917729091096,0.00022285230008240432,0.00021848996206384828,0.0002141756713000552,0.00020991282428836503,0.00020570470341444433,0.00020155447459983562,0.00019746518513513963,0.0001934397616927109,0.0001894810085128098,0.00018559160575724664,0.00018177410802470783,0.00017803094302213255,0.00017436441038673982,0.0001707766806535437,0.00016726979436350623,0.00016384566130776127,0.00016050605990370118,0.0001572526366990472,0.00015408690600041727,0.00015101024962325705,0.00014802391676041026,0.00014512902396696857,0.00014232655525945665,0.00013961736232776705,0.00013700216485866063,0.00013448155096999412,0.00013205597775521225,0.00012972577193795688,0.0001274911306369827,0.00012535212224184516,0.00012330868740011521,0.00012136064011710132,0.00011950766896928451,0.00011774933843284775,0.00011608509032883557,0.00011451424538658981,0.00011303600492719172,0.00011164945266868056,0.00011035355665482901,0.0001091471713092186,0.000108029039616295,0.00010699779543097166,0.00010605196591820796,0.00010518997412380468,0.0001044101416774421,0.00010371069162873212,0.00010308975141676827,0.00010254535597333488,0.00010207545095958692,0.00010167789613562797,0.00010135046886200629,0.0001010908677317126,0.000100896716330807,0.00010076556712532332,0.00010069490547160345,0.0001006821537467023,0.00010072467559498178,0.00010081978028647829,0.00010096472718208917,0.00010115673030008364,0.00010139296297789857,0.00010167056262264543,0.00010198663554321897,0.00010233826185638036,0.00010272250045867682,0.00010313639405556938,0.00010357697423866758,0.00010404126660152223,0.00010452629588400186,0.00010502909113488644,0.00010554669088194707,0.00010607614829845416,0.0001066145363547619,0.00010715895294336798,0.0001077065259656339,0.00010825441836818516,0.00010879983311688685,0.00010934001809621698,0.00010987227092182947,0.00011039394365412291,0.00011090244740070065,0.00011139525679573237,0.00011186991434439802,0.00011232403462082108,0.00011275530830817088,0.0001131615060699408,0.000113540482241781,0.00011389017833368917,0.00011420862633283056,0.00011449395179777536,0.00011474437673549868,0.00011495822225308866,0.00011513391097674898,0.00011526996923135586,0.00011536502897454121,0.00011541782948001238,0.00011542721876558895,0.00011539215476222851,0.00011531170622112723,0.00011518505335681181],\"yaxis\":\"y\",\"type\":\"scatter\"}],                        {\"barmode\":\"overlay\",\"hovermode\":\"closest\",\"legend\":{\"traceorder\":\"reversed\"},\"template\":{\"data\":{\"barpolar\":[{\"marker\":{\"line\":{\"color\":\"#E5ECF6\",\"width\":0.5},\"pattern\":{\"fillmode\":\"overlay\",\"size\":10,\"solidity\":0.2}},\"type\":\"barpolar\"}],\"bar\":[{\"error_x\":{\"color\":\"#2a3f5f\"},\"error_y\":{\"color\":\"#2a3f5f\"},\"marker\":{\"line\":{\"color\":\"#E5ECF6\",\"width\":0.5},\"pattern\":{\"fillmode\":\"overlay\",\"size\":10,\"solidity\":0.2}},\"type\":\"bar\"}],\"carpet\":[{\"aaxis\":{\"endlinecolor\":\"#2a3f5f\",\"gridcolor\":\"white\",\"linecolor\":\"white\",\"minorgridcolor\":\"white\",\"startlinecolor\":\"#2a3f5f\"},\"baxis\":{\"endlinecolor\":\"#2a3f5f\",\"gridcolor\":\"white\",\"linecolor\":\"white\",\"minorgridcolor\":\"white\",\"startlinecolor\":\"#2a3f5f\"},\"type\":\"carpet\"}],\"choropleth\":[{\"colorbar\":{\"outlinewidth\":0,\"ticks\":\"\"},\"type\":\"choropleth\"}],\"contourcarpet\":[{\"colorbar\":{\"outlinewidth\":0,\"ticks\":\"\"},\"type\":\"contourcarpet\"}],\"contour\":[{\"colorbar\":{\"outlinewidth\":0,\"ticks\":\"\"},\"colorscale\":[[0.0,\"#0d0887\"],[0.1111111111111111,\"#46039f\"],[0.2222222222222222,\"#7201a8\"],[0.3333333333333333,\"#9c179e\"],[0.4444444444444444,\"#bd3786\"],[0.5555555555555556,\"#d8576b\"],[0.6666666666666666,\"#ed7953\"],[0.7777777777777778,\"#fb9f3a\"],[0.8888888888888888,\"#fdca26\"],[1.0,\"#f0f921\"]],\"type\":\"contour\"}],\"heatmapgl\":[{\"colorbar\":{\"outlinewidth\":0,\"ticks\":\"\"},\"colorscale\":[[0.0,\"#0d0887\"],[0.1111111111111111,\"#46039f\"],[0.2222222222222222,\"#7201a8\"],[0.3333333333333333,\"#9c179e\"],[0.4444444444444444,\"#bd3786\"],[0.5555555555555556,\"#d8576b\"],[0.6666666666666666,\"#ed7953\"],[0.7777777777777778,\"#fb9f3a\"],[0.8888888888888888,\"#fdca26\"],[1.0,\"#f0f921\"]],\"type\":\"heatmapgl\"}],\"heatmap\":[{\"colorbar\":{\"outlinewidth\":0,\"ticks\":\"\"},\"colorscale\":[[0.0,\"#0d0887\"],[0.1111111111111111,\"#46039f\"],[0.2222222222222222,\"#7201a8\"],[0.3333333333333333,\"#9c179e\"],[0.4444444444444444,\"#bd3786\"],[0.5555555555555556,\"#d8576b\"],[0.6666666666666666,\"#ed7953\"],[0.7777777777777778,\"#fb9f3a\"],[0.8888888888888888,\"#fdca26\"],[1.0,\"#f0f921\"]],\"type\":\"heatmap\"}],\"histogram2dcontour\":[{\"colorbar\":{\"outlinewidth\":0,\"ticks\":\"\"},\"colorscale\":[[0.0,\"#0d0887\"],[0.1111111111111111,\"#46039f\"],[0.2222222222222222,\"#7201a8\"],[0.3333333333333333,\"#9c179e\"],[0.4444444444444444,\"#bd3786\"],[0.5555555555555556,\"#d8576b\"],[0.6666666666666666,\"#ed7953\"],[0.7777777777777778,\"#fb9f3a\"],[0.8888888888888888,\"#fdca26\"],[1.0,\"#f0f921\"]],\"type\":\"histogram2dcontour\"}],\"histogram2d\":[{\"colorbar\":{\"outlinewidth\":0,\"ticks\":\"\"},\"colorscale\":[[0.0,\"#0d0887\"],[0.1111111111111111,\"#46039f\"],[0.2222222222222222,\"#7201a8\"],[0.3333333333333333,\"#9c179e\"],[0.4444444444444444,\"#bd3786\"],[0.5555555555555556,\"#d8576b\"],[0.6666666666666666,\"#ed7953\"],[0.7777777777777778,\"#fb9f3a\"],[0.8888888888888888,\"#fdca26\"],[1.0,\"#f0f921\"]],\"type\":\"histogram2d\"}],\"histogram\":[{\"marker\":{\"pattern\":{\"fillmode\":\"overlay\",\"size\":10,\"solidity\":0.2}},\"type\":\"histogram\"}],\"mesh3d\":[{\"colorbar\":{\"outlinewidth\":0,\"ticks\":\"\"},\"type\":\"mesh3d\"}],\"parcoords\":[{\"line\":{\"colorbar\":{\"outlinewidth\":0,\"ticks\":\"\"}},\"type\":\"parcoords\"}],\"pie\":[{\"automargin\":true,\"type\":\"pie\"}],\"scatter3d\":[{\"line\":{\"colorbar\":{\"outlinewidth\":0,\"ticks\":\"\"}},\"marker\":{\"colorbar\":{\"outlinewidth\":0,\"ticks\":\"\"}},\"type\":\"scatter3d\"}],\"scattercarpet\":[{\"marker\":{\"colorbar\":{\"outlinewidth\":0,\"ticks\":\"\"}},\"type\":\"scattercarpet\"}],\"scattergeo\":[{\"marker\":{\"colorbar\":{\"outlinewidth\":0,\"ticks\":\"\"}},\"type\":\"scattergeo\"}],\"scattergl\":[{\"marker\":{\"colorbar\":{\"outlinewidth\":0,\"ticks\":\"\"}},\"type\":\"scattergl\"}],\"scattermapbox\":[{\"marker\":{\"colorbar\":{\"outlinewidth\":0,\"ticks\":\"\"}},\"type\":\"scattermapbox\"}],\"scatterpolargl\":[{\"marker\":{\"colorbar\":{\"outlinewidth\":0,\"ticks\":\"\"}},\"type\":\"scatterpolargl\"}],\"scatterpolar\":[{\"marker\":{\"colorbar\":{\"outlinewidth\":0,\"ticks\":\"\"}},\"type\":\"scatterpolar\"}],\"scatter\":[{\"marker\":{\"colorbar\":{\"outlinewidth\":0,\"ticks\":\"\"}},\"type\":\"scatter\"}],\"scatterternary\":[{\"marker\":{\"colorbar\":{\"outlinewidth\":0,\"ticks\":\"\"}},\"type\":\"scatterternary\"}],\"surface\":[{\"colorbar\":{\"outlinewidth\":0,\"ticks\":\"\"},\"colorscale\":[[0.0,\"#0d0887\"],[0.1111111111111111,\"#46039f\"],[0.2222222222222222,\"#7201a8\"],[0.3333333333333333,\"#9c179e\"],[0.4444444444444444,\"#bd3786\"],[0.5555555555555556,\"#d8576b\"],[0.6666666666666666,\"#ed7953\"],[0.7777777777777778,\"#fb9f3a\"],[0.8888888888888888,\"#fdca26\"],[1.0,\"#f0f921\"]],\"type\":\"surface\"}],\"table\":[{\"cells\":{\"fill\":{\"color\":\"#EBF0F8\"},\"line\":{\"color\":\"white\"}},\"header\":{\"fill\":{\"color\":\"#C8D4E3\"},\"line\":{\"color\":\"white\"}},\"type\":\"table\"}]},\"layout\":{\"annotationdefaults\":{\"arrowcolor\":\"#2a3f5f\",\"arrowhead\":0,\"arrowwidth\":1},\"autotypenumbers\":\"strict\",\"coloraxis\":{\"colorbar\":{\"outlinewidth\":0,\"ticks\":\"\"}},\"colorscale\":{\"diverging\":[[0,\"#8e0152\"],[0.1,\"#c51b7d\"],[0.2,\"#de77ae\"],[0.3,\"#f1b6da\"],[0.4,\"#fde0ef\"],[0.5,\"#f7f7f7\"],[0.6,\"#e6f5d0\"],[0.7,\"#b8e186\"],[0.8,\"#7fbc41\"],[0.9,\"#4d9221\"],[1,\"#276419\"]],\"sequential\":[[0.0,\"#0d0887\"],[0.1111111111111111,\"#46039f\"],[0.2222222222222222,\"#7201a8\"],[0.3333333333333333,\"#9c179e\"],[0.4444444444444444,\"#bd3786\"],[0.5555555555555556,\"#d8576b\"],[0.6666666666666666,\"#ed7953\"],[0.7777777777777778,\"#fb9f3a\"],[0.8888888888888888,\"#fdca26\"],[1.0,\"#f0f921\"]],\"sequentialminus\":[[0.0,\"#0d0887\"],[0.1111111111111111,\"#46039f\"],[0.2222222222222222,\"#7201a8\"],[0.3333333333333333,\"#9c179e\"],[0.4444444444444444,\"#bd3786\"],[0.5555555555555556,\"#d8576b\"],[0.6666666666666666,\"#ed7953\"],[0.7777777777777778,\"#fb9f3a\"],[0.8888888888888888,\"#fdca26\"],[1.0,\"#f0f921\"]]},\"colorway\":[\"#636efa\",\"#EF553B\",\"#00cc96\",\"#ab63fa\",\"#FFA15A\",\"#19d3f3\",\"#FF6692\",\"#B6E880\",\"#FF97FF\",\"#FECB52\"],\"font\":{\"color\":\"#2a3f5f\"},\"geo\":{\"bgcolor\":\"white\",\"lakecolor\":\"white\",\"landcolor\":\"#E5ECF6\",\"showlakes\":true,\"showland\":true,\"subunitcolor\":\"white\"},\"hoverlabel\":{\"align\":\"left\"},\"hovermode\":\"closest\",\"mapbox\":{\"style\":\"light\"},\"paper_bgcolor\":\"white\",\"plot_bgcolor\":\"#E5ECF6\",\"polar\":{\"angularaxis\":{\"gridcolor\":\"white\",\"linecolor\":\"white\",\"ticks\":\"\"},\"bgcolor\":\"#E5ECF6\",\"radialaxis\":{\"gridcolor\":\"white\",\"linecolor\":\"white\",\"ticks\":\"\"}},\"scene\":{\"xaxis\":{\"backgroundcolor\":\"#E5ECF6\",\"gridcolor\":\"white\",\"gridwidth\":2,\"linecolor\":\"white\",\"showbackground\":true,\"ticks\":\"\",\"zerolinecolor\":\"white\"},\"yaxis\":{\"backgroundcolor\":\"#E5ECF6\",\"gridcolor\":\"white\",\"gridwidth\":2,\"linecolor\":\"white\",\"showbackground\":true,\"ticks\":\"\",\"zerolinecolor\":\"white\"},\"zaxis\":{\"backgroundcolor\":\"#E5ECF6\",\"gridcolor\":\"white\",\"gridwidth\":2,\"linecolor\":\"white\",\"showbackground\":true,\"ticks\":\"\",\"zerolinecolor\":\"white\"}},\"shapedefaults\":{\"line\":{\"color\":\"#2a3f5f\"}},\"ternary\":{\"aaxis\":{\"gridcolor\":\"white\",\"linecolor\":\"white\",\"ticks\":\"\"},\"baxis\":{\"gridcolor\":\"white\",\"linecolor\":\"white\",\"ticks\":\"\"},\"bgcolor\":\"#E5ECF6\",\"caxis\":{\"gridcolor\":\"white\",\"linecolor\":\"white\",\"ticks\":\"\"}},\"title\":{\"x\":0.05},\"xaxis\":{\"automargin\":true,\"gridcolor\":\"white\",\"linecolor\":\"white\",\"ticks\":\"\",\"title\":{\"standoff\":15},\"zerolinecolor\":\"white\",\"zerolinewidth\":2},\"yaxis\":{\"automargin\":true,\"gridcolor\":\"white\",\"linecolor\":\"white\",\"ticks\":\"\",\"title\":{\"standoff\":15},\"zerolinecolor\":\"white\",\"zerolinewidth\":2}}},\"title\":{\"text\":\"Total Microfilm Reels Shipped compared to Total Cerifications\"},\"xaxis\":{\"anchor\":\"y2\",\"domain\":[0.0,1.0],\"title\":{\"text\":\"Total Microfilm Reels Shipped\"},\"zeroline\":false},\"yaxis\":{\"anchor\":\"free\",\"domain\":[0.0,1],\"position\":0.0}},                        {\"responsive\": true}                    ).then(function(){\n",
       "                            \n",
       "var gd = document.getElementById('30c61f80-d9a6-416a-b498-f067e9455e37');\n",
       "var x = new MutationObserver(function (mutations, observer) {{\n",
       "        var display = window.getComputedStyle(gd).display;\n",
       "        if (!display || display === 'none') {{\n",
       "            console.log([gd, 'removed!']);\n",
       "            Plotly.purge(gd);\n",
       "            observer.disconnect();\n",
       "        }}\n",
       "}});\n",
       "\n",
       "// Listen for the removal of the full notebook cells\n",
       "var notebookContainer = gd.closest('#notebook-container');\n",
       "if (notebookContainer) {{\n",
       "    x.observe(notebookContainer, {childList: true});\n",
       "}}\n",
       "\n",
       "// Listen for the clearing of the current output cell\n",
       "var outputEl = gd.closest('.output');\n",
       "if (outputEl) {{\n",
       "    x.observe(outputEl, {childList: true});\n",
       "}}\n",
       "\n",
       "                        })                };                });            </script>        </div>"
      ]
     },
     "metadata": {},
     "output_type": "display_data"
    }
   ],
   "source": [
    "# Checking Heart Disease Rates by age and gender\n",
    "\n",
    "class_0 = update_cus_service_df.loc[update_cus_service_df['TotalCertifications'] <= 45][\"TotalMicrofilmReelsShipped\"]\n",
    "class_1 = update_cus_service_df.loc[update_cus_service_df['TotalCertifications'] >= 45][\"TotalMicrofilmReelsShipped\"]\n",
    "\n",
    "hist_data = [class_0, class_1]\n",
    "group_labels = ['Under 45 ', 'Over 45']\n",
    "\n",
    "fig = ff.create_distplot(hist_data, group_labels, show_hist=False, show_rug=False)\n",
    "fig['layout'].update(title='Total Microfilm Reels Shipped compared to Total Cerifications', xaxis=dict(title='Total Microfilm Reels Shipped'))\n",
    "iplot(fig, filename='dist_only')\n"
   ]
  },
  {
   "cell_type": "code",
   "execution_count": 148,
   "id": "038fe414",
   "metadata": {
    "scrolled": true
   },
   "outputs": [
    {
     "data": {
      "application/vnd.plotly.v1+json": {
       "config": {
        "linkText": "Export to plot.ly",
        "plotlyServerURL": "https://plot.ly",
        "showLink": false
       },
       "data": [
        {
         "marker": {
          "color": "rgb(238,23,11)",
          "line": {
           "color": "red",
           "width": 1
          },
          "opacity": 0.5
         },
         "mode": "markers",
         "name": "Total Telephone Inquiries",
         "text": [
          52,
          71,
          72,
          49,
          76,
          73,
          54,
          59,
          46,
          56,
          50,
          53,
          54,
          53,
          49,
          51,
          50,
          52,
          55,
          52,
          49,
          46,
          45,
          45,
          45,
          55,
          70,
          70,
          48,
          92,
          52,
          51,
          47,
          51,
          53,
          48,
          81,
          46,
          58,
          49,
          54,
          53,
          68,
          52,
          55,
          54,
          68,
          47,
          47,
          49,
          50,
          51,
          56,
          61,
          49,
          46
         ],
         "type": "scatter",
         "x": [
          52,
          71,
          72,
          49,
          76,
          73,
          54,
          59,
          46,
          56,
          50,
          53,
          54,
          53,
          49,
          51,
          50,
          52,
          55,
          52,
          49,
          46,
          45,
          45,
          45,
          55,
          70,
          70,
          48,
          92,
          52,
          51,
          47,
          51,
          53,
          48,
          81,
          46,
          58,
          49,
          54,
          53,
          68,
          52,
          55,
          54,
          68,
          47,
          47,
          49,
          50,
          51,
          56,
          61,
          49,
          46
         ],
         "y": [
          1454,
          1214,
          1344,
          1001,
          1211,
          1210,
          960,
          1077,
          1499,
          1123,
          1256,
          1094,
          1234,
          1127,
          1051,
          1191,
          1104,
          1178,
          1675,
          1126,
          1116,
          985,
          997,
          1031,
          1301,
          1245,
          1206,
          1053,
          1112,
          1083,
          987,
          798,
          1058,
          1322,
          1163,
          1183,
          1056,
          1140,
          1197,
          1114,
          1260,
          1172,
          1555,
          1329,
          1298,
          1326,
          1192,
          1197,
          1307,
          1365,
          1430,
          1313,
          1384,
          1585,
          1519,
          1674
         ]
        }
       ],
       "layout": {
        "hovermode": "closest",
        "template": {
         "data": {
          "bar": [
           {
            "error_x": {
             "color": "#2a3f5f"
            },
            "error_y": {
             "color": "#2a3f5f"
            },
            "marker": {
             "line": {
              "color": "#E5ECF6",
              "width": 0.5
             },
             "pattern": {
              "fillmode": "overlay",
              "size": 10,
              "solidity": 0.2
             }
            },
            "type": "bar"
           }
          ],
          "barpolar": [
           {
            "marker": {
             "line": {
              "color": "#E5ECF6",
              "width": 0.5
             },
             "pattern": {
              "fillmode": "overlay",
              "size": 10,
              "solidity": 0.2
             }
            },
            "type": "barpolar"
           }
          ],
          "carpet": [
           {
            "aaxis": {
             "endlinecolor": "#2a3f5f",
             "gridcolor": "white",
             "linecolor": "white",
             "minorgridcolor": "white",
             "startlinecolor": "#2a3f5f"
            },
            "baxis": {
             "endlinecolor": "#2a3f5f",
             "gridcolor": "white",
             "linecolor": "white",
             "minorgridcolor": "white",
             "startlinecolor": "#2a3f5f"
            },
            "type": "carpet"
           }
          ],
          "choropleth": [
           {
            "colorbar": {
             "outlinewidth": 0,
             "ticks": ""
            },
            "type": "choropleth"
           }
          ],
          "contour": [
           {
            "colorbar": {
             "outlinewidth": 0,
             "ticks": ""
            },
            "colorscale": [
             [
              0,
              "#0d0887"
             ],
             [
              0.1111111111111111,
              "#46039f"
             ],
             [
              0.2222222222222222,
              "#7201a8"
             ],
             [
              0.3333333333333333,
              "#9c179e"
             ],
             [
              0.4444444444444444,
              "#bd3786"
             ],
             [
              0.5555555555555556,
              "#d8576b"
             ],
             [
              0.6666666666666666,
              "#ed7953"
             ],
             [
              0.7777777777777778,
              "#fb9f3a"
             ],
             [
              0.8888888888888888,
              "#fdca26"
             ],
             [
              1,
              "#f0f921"
             ]
            ],
            "type": "contour"
           }
          ],
          "contourcarpet": [
           {
            "colorbar": {
             "outlinewidth": 0,
             "ticks": ""
            },
            "type": "contourcarpet"
           }
          ],
          "heatmap": [
           {
            "colorbar": {
             "outlinewidth": 0,
             "ticks": ""
            },
            "colorscale": [
             [
              0,
              "#0d0887"
             ],
             [
              0.1111111111111111,
              "#46039f"
             ],
             [
              0.2222222222222222,
              "#7201a8"
             ],
             [
              0.3333333333333333,
              "#9c179e"
             ],
             [
              0.4444444444444444,
              "#bd3786"
             ],
             [
              0.5555555555555556,
              "#d8576b"
             ],
             [
              0.6666666666666666,
              "#ed7953"
             ],
             [
              0.7777777777777778,
              "#fb9f3a"
             ],
             [
              0.8888888888888888,
              "#fdca26"
             ],
             [
              1,
              "#f0f921"
             ]
            ],
            "type": "heatmap"
           }
          ],
          "heatmapgl": [
           {
            "colorbar": {
             "outlinewidth": 0,
             "ticks": ""
            },
            "colorscale": [
             [
              0,
              "#0d0887"
             ],
             [
              0.1111111111111111,
              "#46039f"
             ],
             [
              0.2222222222222222,
              "#7201a8"
             ],
             [
              0.3333333333333333,
              "#9c179e"
             ],
             [
              0.4444444444444444,
              "#bd3786"
             ],
             [
              0.5555555555555556,
              "#d8576b"
             ],
             [
              0.6666666666666666,
              "#ed7953"
             ],
             [
              0.7777777777777778,
              "#fb9f3a"
             ],
             [
              0.8888888888888888,
              "#fdca26"
             ],
             [
              1,
              "#f0f921"
             ]
            ],
            "type": "heatmapgl"
           }
          ],
          "histogram": [
           {
            "marker": {
             "pattern": {
              "fillmode": "overlay",
              "size": 10,
              "solidity": 0.2
             }
            },
            "type": "histogram"
           }
          ],
          "histogram2d": [
           {
            "colorbar": {
             "outlinewidth": 0,
             "ticks": ""
            },
            "colorscale": [
             [
              0,
              "#0d0887"
             ],
             [
              0.1111111111111111,
              "#46039f"
             ],
             [
              0.2222222222222222,
              "#7201a8"
             ],
             [
              0.3333333333333333,
              "#9c179e"
             ],
             [
              0.4444444444444444,
              "#bd3786"
             ],
             [
              0.5555555555555556,
              "#d8576b"
             ],
             [
              0.6666666666666666,
              "#ed7953"
             ],
             [
              0.7777777777777778,
              "#fb9f3a"
             ],
             [
              0.8888888888888888,
              "#fdca26"
             ],
             [
              1,
              "#f0f921"
             ]
            ],
            "type": "histogram2d"
           }
          ],
          "histogram2dcontour": [
           {
            "colorbar": {
             "outlinewidth": 0,
             "ticks": ""
            },
            "colorscale": [
             [
              0,
              "#0d0887"
             ],
             [
              0.1111111111111111,
              "#46039f"
             ],
             [
              0.2222222222222222,
              "#7201a8"
             ],
             [
              0.3333333333333333,
              "#9c179e"
             ],
             [
              0.4444444444444444,
              "#bd3786"
             ],
             [
              0.5555555555555556,
              "#d8576b"
             ],
             [
              0.6666666666666666,
              "#ed7953"
             ],
             [
              0.7777777777777778,
              "#fb9f3a"
             ],
             [
              0.8888888888888888,
              "#fdca26"
             ],
             [
              1,
              "#f0f921"
             ]
            ],
            "type": "histogram2dcontour"
           }
          ],
          "mesh3d": [
           {
            "colorbar": {
             "outlinewidth": 0,
             "ticks": ""
            },
            "type": "mesh3d"
           }
          ],
          "parcoords": [
           {
            "line": {
             "colorbar": {
              "outlinewidth": 0,
              "ticks": ""
             }
            },
            "type": "parcoords"
           }
          ],
          "pie": [
           {
            "automargin": true,
            "type": "pie"
           }
          ],
          "scatter": [
           {
            "marker": {
             "colorbar": {
              "outlinewidth": 0,
              "ticks": ""
             }
            },
            "type": "scatter"
           }
          ],
          "scatter3d": [
           {
            "line": {
             "colorbar": {
              "outlinewidth": 0,
              "ticks": ""
             }
            },
            "marker": {
             "colorbar": {
              "outlinewidth": 0,
              "ticks": ""
             }
            },
            "type": "scatter3d"
           }
          ],
          "scattercarpet": [
           {
            "marker": {
             "colorbar": {
              "outlinewidth": 0,
              "ticks": ""
             }
            },
            "type": "scattercarpet"
           }
          ],
          "scattergeo": [
           {
            "marker": {
             "colorbar": {
              "outlinewidth": 0,
              "ticks": ""
             }
            },
            "type": "scattergeo"
           }
          ],
          "scattergl": [
           {
            "marker": {
             "colorbar": {
              "outlinewidth": 0,
              "ticks": ""
             }
            },
            "type": "scattergl"
           }
          ],
          "scattermapbox": [
           {
            "marker": {
             "colorbar": {
              "outlinewidth": 0,
              "ticks": ""
             }
            },
            "type": "scattermapbox"
           }
          ],
          "scatterpolar": [
           {
            "marker": {
             "colorbar": {
              "outlinewidth": 0,
              "ticks": ""
             }
            },
            "type": "scatterpolar"
           }
          ],
          "scatterpolargl": [
           {
            "marker": {
             "colorbar": {
              "outlinewidth": 0,
              "ticks": ""
             }
            },
            "type": "scatterpolargl"
           }
          ],
          "scatterternary": [
           {
            "marker": {
             "colorbar": {
              "outlinewidth": 0,
              "ticks": ""
             }
            },
            "type": "scatterternary"
           }
          ],
          "surface": [
           {
            "colorbar": {
             "outlinewidth": 0,
             "ticks": ""
            },
            "colorscale": [
             [
              0,
              "#0d0887"
             ],
             [
              0.1111111111111111,
              "#46039f"
             ],
             [
              0.2222222222222222,
              "#7201a8"
             ],
             [
              0.3333333333333333,
              "#9c179e"
             ],
             [
              0.4444444444444444,
              "#bd3786"
             ],
             [
              0.5555555555555556,
              "#d8576b"
             ],
             [
              0.6666666666666666,
              "#ed7953"
             ],
             [
              0.7777777777777778,
              "#fb9f3a"
             ],
             [
              0.8888888888888888,
              "#fdca26"
             ],
             [
              1,
              "#f0f921"
             ]
            ],
            "type": "surface"
           }
          ],
          "table": [
           {
            "cells": {
             "fill": {
              "color": "#EBF0F8"
             },
             "line": {
              "color": "white"
             }
            },
            "header": {
             "fill": {
              "color": "#C8D4E3"
             },
             "line": {
              "color": "white"
             }
            },
            "type": "table"
           }
          ]
         },
         "layout": {
          "annotationdefaults": {
           "arrowcolor": "#2a3f5f",
           "arrowhead": 0,
           "arrowwidth": 1
          },
          "autotypenumbers": "strict",
          "coloraxis": {
           "colorbar": {
            "outlinewidth": 0,
            "ticks": ""
           }
          },
          "colorscale": {
           "diverging": [
            [
             0,
             "#8e0152"
            ],
            [
             0.1,
             "#c51b7d"
            ],
            [
             0.2,
             "#de77ae"
            ],
            [
             0.3,
             "#f1b6da"
            ],
            [
             0.4,
             "#fde0ef"
            ],
            [
             0.5,
             "#f7f7f7"
            ],
            [
             0.6,
             "#e6f5d0"
            ],
            [
             0.7,
             "#b8e186"
            ],
            [
             0.8,
             "#7fbc41"
            ],
            [
             0.9,
             "#4d9221"
            ],
            [
             1,
             "#276419"
            ]
           ],
           "sequential": [
            [
             0,
             "#0d0887"
            ],
            [
             0.1111111111111111,
             "#46039f"
            ],
            [
             0.2222222222222222,
             "#7201a8"
            ],
            [
             0.3333333333333333,
             "#9c179e"
            ],
            [
             0.4444444444444444,
             "#bd3786"
            ],
            [
             0.5555555555555556,
             "#d8576b"
            ],
            [
             0.6666666666666666,
             "#ed7953"
            ],
            [
             0.7777777777777778,
             "#fb9f3a"
            ],
            [
             0.8888888888888888,
             "#fdca26"
            ],
            [
             1,
             "#f0f921"
            ]
           ],
           "sequentialminus": [
            [
             0,
             "#0d0887"
            ],
            [
             0.1111111111111111,
             "#46039f"
            ],
            [
             0.2222222222222222,
             "#7201a8"
            ],
            [
             0.3333333333333333,
             "#9c179e"
            ],
            [
             0.4444444444444444,
             "#bd3786"
            ],
            [
             0.5555555555555556,
             "#d8576b"
            ],
            [
             0.6666666666666666,
             "#ed7953"
            ],
            [
             0.7777777777777778,
             "#fb9f3a"
            ],
            [
             0.8888888888888888,
             "#fdca26"
            ],
            [
             1,
             "#f0f921"
            ]
           ]
          },
          "colorway": [
           "#636efa",
           "#EF553B",
           "#00cc96",
           "#ab63fa",
           "#FFA15A",
           "#19d3f3",
           "#FF6692",
           "#B6E880",
           "#FF97FF",
           "#FECB52"
          ],
          "font": {
           "color": "#2a3f5f"
          },
          "geo": {
           "bgcolor": "white",
           "lakecolor": "white",
           "landcolor": "#E5ECF6",
           "showlakes": true,
           "showland": true,
           "subunitcolor": "white"
          },
          "hoverlabel": {
           "align": "left"
          },
          "hovermode": "closest",
          "mapbox": {
           "style": "light"
          },
          "paper_bgcolor": "white",
          "plot_bgcolor": "#E5ECF6",
          "polar": {
           "angularaxis": {
            "gridcolor": "white",
            "linecolor": "white",
            "ticks": ""
           },
           "bgcolor": "#E5ECF6",
           "radialaxis": {
            "gridcolor": "white",
            "linecolor": "white",
            "ticks": ""
           }
          },
          "scene": {
           "xaxis": {
            "backgroundcolor": "#E5ECF6",
            "gridcolor": "white",
            "gridwidth": 2,
            "linecolor": "white",
            "showbackground": true,
            "ticks": "",
            "zerolinecolor": "white"
           },
           "yaxis": {
            "backgroundcolor": "#E5ECF6",
            "gridcolor": "white",
            "gridwidth": 2,
            "linecolor": "white",
            "showbackground": true,
            "ticks": "",
            "zerolinecolor": "white"
           },
           "zaxis": {
            "backgroundcolor": "#E5ECF6",
            "gridcolor": "white",
            "gridwidth": 2,
            "linecolor": "white",
            "showbackground": true,
            "ticks": "",
            "zerolinecolor": "white"
           }
          },
          "shapedefaults": {
           "line": {
            "color": "#2a3f5f"
           }
          },
          "ternary": {
           "aaxis": {
            "gridcolor": "white",
            "linecolor": "white",
            "ticks": ""
           },
           "baxis": {
            "gridcolor": "white",
            "linecolor": "white",
            "ticks": ""
           },
           "bgcolor": "#E5ECF6",
           "caxis": {
            "gridcolor": "white",
            "linecolor": "white",
            "ticks": ""
           }
          },
          "title": {
           "x": 0.05
          },
          "xaxis": {
           "automargin": true,
           "gridcolor": "white",
           "linecolor": "white",
           "ticks": "",
           "title": {
            "standoff": 15
           },
           "zerolinecolor": "white",
           "zerolinewidth": 2
          },
          "yaxis": {
           "automargin": true,
           "gridcolor": "white",
           "linecolor": "white",
           "ticks": "",
           "title": {
            "standoff": 15
           },
           "zerolinecolor": "white",
           "zerolinewidth": 2
          }
         }
        },
        "title": {
         "text": "Inquiries vs Certification"
        },
        "xaxis": {
         "showticklabels": true,
         "title": {
          "text": "Certification [s]"
         }
        },
        "yaxis": {
         "title": {
          "text": "Telephone Inquiries"
         }
        }
       }
      },
      "text/html": [
       "<div>                            <div id=\"32047541-24ae-47cf-ba30-9c758c256a81\" class=\"plotly-graph-div\" style=\"height:525px; width:100%;\"></div>            <script type=\"text/javascript\">                require([\"plotly\"], function(Plotly) {                    window.PLOTLYENV=window.PLOTLYENV || {};                                    if (document.getElementById(\"32047541-24ae-47cf-ba30-9c758c256a81\")) {                    Plotly.newPlot(                        \"32047541-24ae-47cf-ba30-9c758c256a81\",                        [{\"marker\":{\"color\":\"rgb(238,23,11)\",\"line\":{\"color\":\"red\",\"width\":1},\"opacity\":0.5},\"mode\":\"markers\",\"name\":\"Total Telephone Inquiries\",\"text\":[52.0,71.0,72.0,49.0,76.0,73.0,54.0,59.0,46.0,56.0,50.0,53.0,54.0,53.0,49.0,51.0,50.0,52.0,55.0,52.0,49.0,46.0,45.0,45.0,45.0,55.0,70.0,70.0,48.0,92.0,52.0,51.0,47.0,51.0,53.0,48.0,81.0,46.0,58.0,49.0,54.0,53.0,68.0,52.0,55.0,54.0,68.0,47.0,47.0,49.0,50.0,51.0,56.0,61.0,49.0,46.0],\"x\":[52,71,72,49,76,73,54,59,46,56,50,53,54,53,49,51,50,52,55,52,49,46,45,45,45,55,70,70,48,92,52,51,47,51,53,48,81,46,58,49,54,53,68,52,55,54,68,47,47,49,50,51,56,61,49,46],\"y\":[1454,1214,1344,1001,1211,1210,960,1077,1499,1123,1256,1094,1234,1127,1051,1191,1104,1178,1675,1126,1116,985,997,1031,1301,1245,1206,1053,1112,1083,987,798,1058,1322,1163,1183,1056,1140,1197,1114,1260,1172,1555,1329,1298,1326,1192,1197,1307,1365,1430,1313,1384,1585,1519,1674],\"type\":\"scatter\"}],                        {\"hovermode\":\"closest\",\"template\":{\"data\":{\"barpolar\":[{\"marker\":{\"line\":{\"color\":\"#E5ECF6\",\"width\":0.5},\"pattern\":{\"fillmode\":\"overlay\",\"size\":10,\"solidity\":0.2}},\"type\":\"barpolar\"}],\"bar\":[{\"error_x\":{\"color\":\"#2a3f5f\"},\"error_y\":{\"color\":\"#2a3f5f\"},\"marker\":{\"line\":{\"color\":\"#E5ECF6\",\"width\":0.5},\"pattern\":{\"fillmode\":\"overlay\",\"size\":10,\"solidity\":0.2}},\"type\":\"bar\"}],\"carpet\":[{\"aaxis\":{\"endlinecolor\":\"#2a3f5f\",\"gridcolor\":\"white\",\"linecolor\":\"white\",\"minorgridcolor\":\"white\",\"startlinecolor\":\"#2a3f5f\"},\"baxis\":{\"endlinecolor\":\"#2a3f5f\",\"gridcolor\":\"white\",\"linecolor\":\"white\",\"minorgridcolor\":\"white\",\"startlinecolor\":\"#2a3f5f\"},\"type\":\"carpet\"}],\"choropleth\":[{\"colorbar\":{\"outlinewidth\":0,\"ticks\":\"\"},\"type\":\"choropleth\"}],\"contourcarpet\":[{\"colorbar\":{\"outlinewidth\":0,\"ticks\":\"\"},\"type\":\"contourcarpet\"}],\"contour\":[{\"colorbar\":{\"outlinewidth\":0,\"ticks\":\"\"},\"colorscale\":[[0.0,\"#0d0887\"],[0.1111111111111111,\"#46039f\"],[0.2222222222222222,\"#7201a8\"],[0.3333333333333333,\"#9c179e\"],[0.4444444444444444,\"#bd3786\"],[0.5555555555555556,\"#d8576b\"],[0.6666666666666666,\"#ed7953\"],[0.7777777777777778,\"#fb9f3a\"],[0.8888888888888888,\"#fdca26\"],[1.0,\"#f0f921\"]],\"type\":\"contour\"}],\"heatmapgl\":[{\"colorbar\":{\"outlinewidth\":0,\"ticks\":\"\"},\"colorscale\":[[0.0,\"#0d0887\"],[0.1111111111111111,\"#46039f\"],[0.2222222222222222,\"#7201a8\"],[0.3333333333333333,\"#9c179e\"],[0.4444444444444444,\"#bd3786\"],[0.5555555555555556,\"#d8576b\"],[0.6666666666666666,\"#ed7953\"],[0.7777777777777778,\"#fb9f3a\"],[0.8888888888888888,\"#fdca26\"],[1.0,\"#f0f921\"]],\"type\":\"heatmapgl\"}],\"heatmap\":[{\"colorbar\":{\"outlinewidth\":0,\"ticks\":\"\"},\"colorscale\":[[0.0,\"#0d0887\"],[0.1111111111111111,\"#46039f\"],[0.2222222222222222,\"#7201a8\"],[0.3333333333333333,\"#9c179e\"],[0.4444444444444444,\"#bd3786\"],[0.5555555555555556,\"#d8576b\"],[0.6666666666666666,\"#ed7953\"],[0.7777777777777778,\"#fb9f3a\"],[0.8888888888888888,\"#fdca26\"],[1.0,\"#f0f921\"]],\"type\":\"heatmap\"}],\"histogram2dcontour\":[{\"colorbar\":{\"outlinewidth\":0,\"ticks\":\"\"},\"colorscale\":[[0.0,\"#0d0887\"],[0.1111111111111111,\"#46039f\"],[0.2222222222222222,\"#7201a8\"],[0.3333333333333333,\"#9c179e\"],[0.4444444444444444,\"#bd3786\"],[0.5555555555555556,\"#d8576b\"],[0.6666666666666666,\"#ed7953\"],[0.7777777777777778,\"#fb9f3a\"],[0.8888888888888888,\"#fdca26\"],[1.0,\"#f0f921\"]],\"type\":\"histogram2dcontour\"}],\"histogram2d\":[{\"colorbar\":{\"outlinewidth\":0,\"ticks\":\"\"},\"colorscale\":[[0.0,\"#0d0887\"],[0.1111111111111111,\"#46039f\"],[0.2222222222222222,\"#7201a8\"],[0.3333333333333333,\"#9c179e\"],[0.4444444444444444,\"#bd3786\"],[0.5555555555555556,\"#d8576b\"],[0.6666666666666666,\"#ed7953\"],[0.7777777777777778,\"#fb9f3a\"],[0.8888888888888888,\"#fdca26\"],[1.0,\"#f0f921\"]],\"type\":\"histogram2d\"}],\"histogram\":[{\"marker\":{\"pattern\":{\"fillmode\":\"overlay\",\"size\":10,\"solidity\":0.2}},\"type\":\"histogram\"}],\"mesh3d\":[{\"colorbar\":{\"outlinewidth\":0,\"ticks\":\"\"},\"type\":\"mesh3d\"}],\"parcoords\":[{\"line\":{\"colorbar\":{\"outlinewidth\":0,\"ticks\":\"\"}},\"type\":\"parcoords\"}],\"pie\":[{\"automargin\":true,\"type\":\"pie\"}],\"scatter3d\":[{\"line\":{\"colorbar\":{\"outlinewidth\":0,\"ticks\":\"\"}},\"marker\":{\"colorbar\":{\"outlinewidth\":0,\"ticks\":\"\"}},\"type\":\"scatter3d\"}],\"scattercarpet\":[{\"marker\":{\"colorbar\":{\"outlinewidth\":0,\"ticks\":\"\"}},\"type\":\"scattercarpet\"}],\"scattergeo\":[{\"marker\":{\"colorbar\":{\"outlinewidth\":0,\"ticks\":\"\"}},\"type\":\"scattergeo\"}],\"scattergl\":[{\"marker\":{\"colorbar\":{\"outlinewidth\":0,\"ticks\":\"\"}},\"type\":\"scattergl\"}],\"scattermapbox\":[{\"marker\":{\"colorbar\":{\"outlinewidth\":0,\"ticks\":\"\"}},\"type\":\"scattermapbox\"}],\"scatterpolargl\":[{\"marker\":{\"colorbar\":{\"outlinewidth\":0,\"ticks\":\"\"}},\"type\":\"scatterpolargl\"}],\"scatterpolar\":[{\"marker\":{\"colorbar\":{\"outlinewidth\":0,\"ticks\":\"\"}},\"type\":\"scatterpolar\"}],\"scatter\":[{\"marker\":{\"colorbar\":{\"outlinewidth\":0,\"ticks\":\"\"}},\"type\":\"scatter\"}],\"scatterternary\":[{\"marker\":{\"colorbar\":{\"outlinewidth\":0,\"ticks\":\"\"}},\"type\":\"scatterternary\"}],\"surface\":[{\"colorbar\":{\"outlinewidth\":0,\"ticks\":\"\"},\"colorscale\":[[0.0,\"#0d0887\"],[0.1111111111111111,\"#46039f\"],[0.2222222222222222,\"#7201a8\"],[0.3333333333333333,\"#9c179e\"],[0.4444444444444444,\"#bd3786\"],[0.5555555555555556,\"#d8576b\"],[0.6666666666666666,\"#ed7953\"],[0.7777777777777778,\"#fb9f3a\"],[0.8888888888888888,\"#fdca26\"],[1.0,\"#f0f921\"]],\"type\":\"surface\"}],\"table\":[{\"cells\":{\"fill\":{\"color\":\"#EBF0F8\"},\"line\":{\"color\":\"white\"}},\"header\":{\"fill\":{\"color\":\"#C8D4E3\"},\"line\":{\"color\":\"white\"}},\"type\":\"table\"}]},\"layout\":{\"annotationdefaults\":{\"arrowcolor\":\"#2a3f5f\",\"arrowhead\":0,\"arrowwidth\":1},\"autotypenumbers\":\"strict\",\"coloraxis\":{\"colorbar\":{\"outlinewidth\":0,\"ticks\":\"\"}},\"colorscale\":{\"diverging\":[[0,\"#8e0152\"],[0.1,\"#c51b7d\"],[0.2,\"#de77ae\"],[0.3,\"#f1b6da\"],[0.4,\"#fde0ef\"],[0.5,\"#f7f7f7\"],[0.6,\"#e6f5d0\"],[0.7,\"#b8e186\"],[0.8,\"#7fbc41\"],[0.9,\"#4d9221\"],[1,\"#276419\"]],\"sequential\":[[0.0,\"#0d0887\"],[0.1111111111111111,\"#46039f\"],[0.2222222222222222,\"#7201a8\"],[0.3333333333333333,\"#9c179e\"],[0.4444444444444444,\"#bd3786\"],[0.5555555555555556,\"#d8576b\"],[0.6666666666666666,\"#ed7953\"],[0.7777777777777778,\"#fb9f3a\"],[0.8888888888888888,\"#fdca26\"],[1.0,\"#f0f921\"]],\"sequentialminus\":[[0.0,\"#0d0887\"],[0.1111111111111111,\"#46039f\"],[0.2222222222222222,\"#7201a8\"],[0.3333333333333333,\"#9c179e\"],[0.4444444444444444,\"#bd3786\"],[0.5555555555555556,\"#d8576b\"],[0.6666666666666666,\"#ed7953\"],[0.7777777777777778,\"#fb9f3a\"],[0.8888888888888888,\"#fdca26\"],[1.0,\"#f0f921\"]]},\"colorway\":[\"#636efa\",\"#EF553B\",\"#00cc96\",\"#ab63fa\",\"#FFA15A\",\"#19d3f3\",\"#FF6692\",\"#B6E880\",\"#FF97FF\",\"#FECB52\"],\"font\":{\"color\":\"#2a3f5f\"},\"geo\":{\"bgcolor\":\"white\",\"lakecolor\":\"white\",\"landcolor\":\"#E5ECF6\",\"showlakes\":true,\"showland\":true,\"subunitcolor\":\"white\"},\"hoverlabel\":{\"align\":\"left\"},\"hovermode\":\"closest\",\"mapbox\":{\"style\":\"light\"},\"paper_bgcolor\":\"white\",\"plot_bgcolor\":\"#E5ECF6\",\"polar\":{\"angularaxis\":{\"gridcolor\":\"white\",\"linecolor\":\"white\",\"ticks\":\"\"},\"bgcolor\":\"#E5ECF6\",\"radialaxis\":{\"gridcolor\":\"white\",\"linecolor\":\"white\",\"ticks\":\"\"}},\"scene\":{\"xaxis\":{\"backgroundcolor\":\"#E5ECF6\",\"gridcolor\":\"white\",\"gridwidth\":2,\"linecolor\":\"white\",\"showbackground\":true,\"ticks\":\"\",\"zerolinecolor\":\"white\"},\"yaxis\":{\"backgroundcolor\":\"#E5ECF6\",\"gridcolor\":\"white\",\"gridwidth\":2,\"linecolor\":\"white\",\"showbackground\":true,\"ticks\":\"\",\"zerolinecolor\":\"white\"},\"zaxis\":{\"backgroundcolor\":\"#E5ECF6\",\"gridcolor\":\"white\",\"gridwidth\":2,\"linecolor\":\"white\",\"showbackground\":true,\"ticks\":\"\",\"zerolinecolor\":\"white\"}},\"shapedefaults\":{\"line\":{\"color\":\"#2a3f5f\"}},\"ternary\":{\"aaxis\":{\"gridcolor\":\"white\",\"linecolor\":\"white\",\"ticks\":\"\"},\"baxis\":{\"gridcolor\":\"white\",\"linecolor\":\"white\",\"ticks\":\"\"},\"bgcolor\":\"#E5ECF6\",\"caxis\":{\"gridcolor\":\"white\",\"linecolor\":\"white\",\"ticks\":\"\"}},\"title\":{\"x\":0.05},\"xaxis\":{\"automargin\":true,\"gridcolor\":\"white\",\"linecolor\":\"white\",\"ticks\":\"\",\"title\":{\"standoff\":15},\"zerolinecolor\":\"white\",\"zerolinewidth\":2},\"yaxis\":{\"automargin\":true,\"gridcolor\":\"white\",\"linecolor\":\"white\",\"ticks\":\"\",\"title\":{\"standoff\":15},\"zerolinecolor\":\"white\",\"zerolinewidth\":2}}},\"title\":{\"text\":\"Inquiries vs Certification\"},\"xaxis\":{\"showticklabels\":true,\"title\":{\"text\":\"Certification [s]\"}},\"yaxis\":{\"title\":{\"text\":\"Telephone Inquiries\"}}},                        {\"responsive\": true}                    ).then(function(){\n",
       "                            \n",
       "var gd = document.getElementById('32047541-24ae-47cf-ba30-9c758c256a81');\n",
       "var x = new MutationObserver(function (mutations, observer) {{\n",
       "        var display = window.getComputedStyle(gd).display;\n",
       "        if (!display || display === 'none') {{\n",
       "            console.log([gd, 'removed!']);\n",
       "            Plotly.purge(gd);\n",
       "            observer.disconnect();\n",
       "        }}\n",
       "}});\n",
       "\n",
       "// Listen for the removal of the full notebook cells\n",
       "var notebookContainer = gd.closest('#notebook-container');\n",
       "if (notebookContainer) {{\n",
       "    x.observe(notebookContainer, {childList: true});\n",
       "}}\n",
       "\n",
       "// Listen for the clearing of the current output cell\n",
       "var outputEl = gd.closest('.output');\n",
       "if (outputEl) {{\n",
       "    x.observe(outputEl, {childList: true});\n",
       "}}\n",
       "\n",
       "                        })                };                });            </script>        </div>"
      ]
     },
     "metadata": {},
     "output_type": "display_data"
    }
   ],
   "source": [
    "# Let's plot the blood sugar levels(glucose) against age. \n",
    "# The age is shown in years from the start of the time period of the given dataset.\n",
    "\n",
    "total_certifications = update_cus_service_df.loc[update_cus_service_df['TotalCertifications'] >= 45]\n",
    "\n",
    "trace = go.Scatter(\n",
    "    x = total_certifications['TotalCertifications'],y = total_certifications['TotalTelephoneInquiries'],\n",
    "    name=\"Total Telephone Inquiries\",\n",
    "     marker=dict(\n",
    "                color='rgb(238,23,11)',\n",
    "                line=dict(\n",
    "                    color='red',\n",
    "                    width=1),\n",
    "                opacity=0.5,\n",
    "            ),\n",
    "    text= total_certifications['TotalCertifications'],\n",
    "    mode = \"markers\"\n",
    ")\n",
    "data = [trace]\n",
    "layout = dict(title = 'Inquiries vs Certification',\n",
    "          xaxis = dict(title = 'Certification [s]', showticklabels=True), \n",
    "          yaxis = dict(title = 'Telephone Inquiries'),\n",
    "          hovermode='closest'\n",
    "         )\n",
    "fig = dict(data=data, layout=layout)\n",
    "iplot(fig, filename='inquiries_certifications')"
   ]
  },
  {
   "cell_type": "markdown",
   "id": "451a33f4",
   "metadata": {},
   "source": [
    "# Define predictors and target values\n"
   ]
  },
  {
   "cell_type": "code",
   "execution_count": 149,
   "id": "9a56429d",
   "metadata": {},
   "outputs": [],
   "source": [
    "# Let's define the predictor features and the target features. Categorical features, \n",
    "# if any, are also defined. In our case, there are no categorical feature.\n",
    "\n",
    "from sklearn.ensemble import RandomForestClassifier\n",
    "\n",
    "target = 'TotalTelephoneInquiries'\n",
    "predictors = ['TotalCorrespondence', 'TotalOnsiteUsers',\\\n",
    "              'TotalItemsRetrieved', 'TotalMicrofilmReelsShipped', 'TotalReproductions','TotalCertifications']\n"
   ]
  },
  {
   "cell_type": "markdown",
   "id": "a1e1ad16",
   "metadata": {},
   "source": [
    "# Split training/test datasets"
   ]
  },
  {
   "cell_type": "code",
   "execution_count": 150,
   "id": "5d3d7934",
   "metadata": {},
   "outputs": [],
   "source": [
    "train_df, test_df = train_test_split(update_cus_service_df, test_size=0.4, random_state=45, shuffle=True )\n",
    "train_df, valid_df = train_test_split(train_df, test_size=0.4, random_state=45, shuffle=True )"
   ]
  },
  {
   "cell_type": "markdown",
   "id": "a610f519",
   "metadata": {},
   "source": [
    "# Create a Randomforest classifier."
   ]
  },
  {
   "cell_type": "code",
   "execution_count": 151,
   "id": "b13596e4",
   "metadata": {},
   "outputs": [],
   "source": [
    "# Initializing the RandomForest Classifier.\n",
    "clf = RandomForestClassifier(n_jobs=5, \n",
    "                             random_state=45,\n",
    "                             criterion='gini',\n",
    "                             n_estimators=5,\n",
    "                             verbose=False)"
   ]
  },
  {
   "cell_type": "code",
   "execution_count": 152,
   "id": "9556bce5",
   "metadata": {},
   "outputs": [
    {
     "data": {
      "text/plain": [
       "RandomForestClassifier(n_estimators=5, n_jobs=5, random_state=45, verbose=False)"
      ]
     },
     "execution_count": 152,
     "metadata": {},
     "output_type": "execute_result"
    }
   ],
   "source": [
    "# Training the RandomForest Classifier using the train_df data and fit function.\n",
    "clf.fit(train_df[predictors], train_df[target].values)"
   ]
  },
  {
   "cell_type": "code",
   "execution_count": 153,
   "id": "38be93b9",
   "metadata": {},
   "outputs": [],
   "source": [
    "# Predicting the target values for the valid_df data, using predict function.\n",
    "preds = clf.predict(valid_df[predictors])"
   ]
  },
  {
   "cell_type": "code",
   "execution_count": 154,
   "id": "44e357ff",
   "metadata": {},
   "outputs": [
    {
     "data": {
      "image/png": "[encoded data removed]",
      "text/plain": [
       "<Figure size 504x288 with 1 Axes>"
      ]
     },
     "metadata": {
      "needs_background": "light"
     },
     "output_type": "display_data"
    }
   ],
   "source": [
    "# Visualizing the Factors influencing Ten Year CHD\n",
    "tmp = pd.DataFrame({'Factors influencing Total Certifications': predictors, 'Factors influencing Total Telephone Inquiries': clf.feature_importances_})\n",
    "tmp = tmp.sort_values(by='Factors influencing Total Telephone Inquiries',ascending=False)\n",
    "plt.figure(figsize = (7,4))\n",
    "plt.title('Factors influencing Total Telephone Inquiries',fontsize=14)\n",
    "s = sns.barplot(x='Factors influencing Total Certifications',y='Factors influencing Total Telephone Inquiries',data=tmp)\n",
    "s.set_xticklabels(s.get_xticklabels(),rotation=90)\n",
    "plt.show()"
   ]
  },
  {
   "cell_type": "code",
   "execution_count": 155,
   "id": "ae2c3900",
   "metadata": {},
   "outputs": [
    {
     "name": "stdout",
     "output_type": "stream",
     "text": [
      "0.9913333333333334\n"
     ]
    }
   ],
   "source": [
    "# Calculate the ROC-AUC score. The area under curve\n",
    "from sklearn.datasets import load_iris\n",
    "from sklearn.linear_model import LogisticRegression\n",
    "from collections import Counter\n",
    "\n",
    "X, y = load_iris(return_X_y=True)\n",
    "clf = LogisticRegression(solver=\"liblinear\").fit(X, y)\n",
    "\n",
    "ran_for = roc_auc_score(y, clf.predict_proba(X), multi_class='ovr')\n",
    "print(ran_for)"
   ]
  },
  {
   "cell_type": "markdown",
   "id": "f7d19352",
   "metadata": {},
   "source": [
    "# The roc_auc_score obtained with RandomForrestClassifier 0.99"
   ]
  },
  {
   "cell_type": "markdown",
   "id": "ea2799cd",
   "metadata": {},
   "source": [
    "# Support Vector Machine Vs. Deep Learning Model"
   ]
  },
  {
   "cell_type": "code",
   "execution_count": 156,
   "id": "6ae07484",
   "metadata": {},
   "outputs": [
    {
     "data": {
      "text/plain": [
       "TotalTelephoneInquiries       111\n",
       "TotalCorrespondence           103\n",
       "TotalOnsiteUsers               96\n",
       "TotalItemsRetrieved           115\n",
       "TotalMicrofilmReelsShipped    104\n",
       "TotalReproductions             88\n",
       "TotalCertifications            45\n",
       "dtype: int64"
      ]
     },
     "execution_count": 156,
     "metadata": {},
     "output_type": "execute_result"
    }
   ],
   "source": [
    "# Generate our categorical variable list\n",
    "TotalInquiries_cat = update_cus_service_df.dtypes[update_cus_service_df.dtypes == \"int64\"].index.tolist()\n",
    "\n",
    "\n",
    "# Check the number of unique values in each column\n",
    "update_cus_service_df[TotalInquiries_cat].nunique()"
   ]
  },
  {
   "cell_type": "code",
   "execution_count": 157,
   "id": "89822c57",
   "metadata": {},
   "outputs": [
    {
     "name": "stderr",
     "output_type": "stream",
     "text": [
      "C:\\Users\\Judy\\miniconda3\\envs\\PythonData\\lib\\site-packages\\sklearn\\utils\\deprecation.py:87: FutureWarning:\n",
      "\n",
      "Function get_feature_names is deprecated; get_feature_names is deprecated in 1.0 and will be removed in 1.2. Please use get_feature_names_out instead.\n",
      "\n"
     ]
    },
    {
     "data": {
      "text/html": [
       "<div>\n",
       "<style scoped>\n",
       "    .dataframe tbody tr th:only-of-type {\n",
       "        vertical-align: middle;\n",
       "    }\n",
       "\n",
       "    .dataframe tbody tr th {\n",
       "        vertical-align: top;\n",
       "    }\n",
       "\n",
       "    .dataframe thead th {\n",
       "        text-align: right;\n",
       "    }\n",
       "</style>\n",
       "<table border=\"1\" class=\"dataframe\">\n",
       "  <thead>\n",
       "    <tr style=\"text-align: right;\">\n",
       "      <th></th>\n",
       "      <th>TotalTelephoneInquiries_636</th>\n",
       "      <th>TotalTelephoneInquiries_743</th>\n",
       "      <th>TotalTelephoneInquiries_745</th>\n",
       "      <th>TotalTelephoneInquiries_787</th>\n",
       "      <th>TotalTelephoneInquiries_788</th>\n",
       "      <th>TotalTelephoneInquiries_798</th>\n",
       "      <th>TotalTelephoneInquiries_839</th>\n",
       "      <th>TotalTelephoneInquiries_840</th>\n",
       "      <th>TotalTelephoneInquiries_861</th>\n",
       "      <th>TotalTelephoneInquiries_878</th>\n",
       "      <th>...</th>\n",
       "      <th>TotalCertifications_59</th>\n",
       "      <th>TotalCertifications_61</th>\n",
       "      <th>TotalCertifications_68</th>\n",
       "      <th>TotalCertifications_70</th>\n",
       "      <th>TotalCertifications_71</th>\n",
       "      <th>TotalCertifications_72</th>\n",
       "      <th>TotalCertifications_73</th>\n",
       "      <th>TotalCertifications_76</th>\n",
       "      <th>TotalCertifications_81</th>\n",
       "      <th>TotalCertifications_92</th>\n",
       "    </tr>\n",
       "  </thead>\n",
       "  <tbody>\n",
       "    <tr>\n",
       "      <th>0</th>\n",
       "      <td>0.0</td>\n",
       "      <td>0.0</td>\n",
       "      <td>0.0</td>\n",
       "      <td>0.0</td>\n",
       "      <td>0.0</td>\n",
       "      <td>0.0</td>\n",
       "      <td>0.0</td>\n",
       "      <td>0.0</td>\n",
       "      <td>0.0</td>\n",
       "      <td>0.0</td>\n",
       "      <td>...</td>\n",
       "      <td>0.0</td>\n",
       "      <td>0.0</td>\n",
       "      <td>0.0</td>\n",
       "      <td>0.0</td>\n",
       "      <td>0.0</td>\n",
       "      <td>0.0</td>\n",
       "      <td>0.0</td>\n",
       "      <td>0.0</td>\n",
       "      <td>0.0</td>\n",
       "      <td>0.0</td>\n",
       "    </tr>\n",
       "    <tr>\n",
       "      <th>1</th>\n",
       "      <td>0.0</td>\n",
       "      <td>0.0</td>\n",
       "      <td>0.0</td>\n",
       "      <td>0.0</td>\n",
       "      <td>0.0</td>\n",
       "      <td>0.0</td>\n",
       "      <td>0.0</td>\n",
       "      <td>0.0</td>\n",
       "      <td>0.0</td>\n",
       "      <td>0.0</td>\n",
       "      <td>...</td>\n",
       "      <td>0.0</td>\n",
       "      <td>0.0</td>\n",
       "      <td>0.0</td>\n",
       "      <td>0.0</td>\n",
       "      <td>0.0</td>\n",
       "      <td>0.0</td>\n",
       "      <td>0.0</td>\n",
       "      <td>0.0</td>\n",
       "      <td>0.0</td>\n",
       "      <td>0.0</td>\n",
       "    </tr>\n",
       "    <tr>\n",
       "      <th>2</th>\n",
       "      <td>0.0</td>\n",
       "      <td>0.0</td>\n",
       "      <td>0.0</td>\n",
       "      <td>0.0</td>\n",
       "      <td>0.0</td>\n",
       "      <td>0.0</td>\n",
       "      <td>0.0</td>\n",
       "      <td>0.0</td>\n",
       "      <td>0.0</td>\n",
       "      <td>0.0</td>\n",
       "      <td>...</td>\n",
       "      <td>0.0</td>\n",
       "      <td>0.0</td>\n",
       "      <td>0.0</td>\n",
       "      <td>0.0</td>\n",
       "      <td>0.0</td>\n",
       "      <td>0.0</td>\n",
       "      <td>0.0</td>\n",
       "      <td>0.0</td>\n",
       "      <td>0.0</td>\n",
       "      <td>0.0</td>\n",
       "    </tr>\n",
       "    <tr>\n",
       "      <th>3</th>\n",
       "      <td>0.0</td>\n",
       "      <td>0.0</td>\n",
       "      <td>0.0</td>\n",
       "      <td>0.0</td>\n",
       "      <td>0.0</td>\n",
       "      <td>0.0</td>\n",
       "      <td>0.0</td>\n",
       "      <td>0.0</td>\n",
       "      <td>0.0</td>\n",
       "      <td>0.0</td>\n",
       "      <td>...</td>\n",
       "      <td>0.0</td>\n",
       "      <td>0.0</td>\n",
       "      <td>0.0</td>\n",
       "      <td>0.0</td>\n",
       "      <td>0.0</td>\n",
       "      <td>0.0</td>\n",
       "      <td>0.0</td>\n",
       "      <td>0.0</td>\n",
       "      <td>0.0</td>\n",
       "      <td>0.0</td>\n",
       "    </tr>\n",
       "    <tr>\n",
       "      <th>4</th>\n",
       "      <td>0.0</td>\n",
       "      <td>0.0</td>\n",
       "      <td>0.0</td>\n",
       "      <td>0.0</td>\n",
       "      <td>0.0</td>\n",
       "      <td>0.0</td>\n",
       "      <td>0.0</td>\n",
       "      <td>0.0</td>\n",
       "      <td>0.0</td>\n",
       "      <td>0.0</td>\n",
       "      <td>...</td>\n",
       "      <td>0.0</td>\n",
       "      <td>0.0</td>\n",
       "      <td>0.0</td>\n",
       "      <td>0.0</td>\n",
       "      <td>1.0</td>\n",
       "      <td>0.0</td>\n",
       "      <td>0.0</td>\n",
       "      <td>0.0</td>\n",
       "      <td>0.0</td>\n",
       "      <td>0.0</td>\n",
       "    </tr>\n",
       "  </tbody>\n",
       "</table>\n",
       "<p>5 rows × 662 columns</p>\n",
       "</div>"
      ],
      "text/plain": [
       "   TotalTelephoneInquiries_636  TotalTelephoneInquiries_743  \\\n",
       "0                          0.0                          0.0   \n",
       "1                          0.0                          0.0   \n",
       "2                          0.0                          0.0   \n",
       "3                          0.0                          0.0   \n",
       "4                          0.0                          0.0   \n",
       "\n",
       "   TotalTelephoneInquiries_745  TotalTelephoneInquiries_787  \\\n",
       "0                          0.0                          0.0   \n",
       "1                          0.0                          0.0   \n",
       "2                          0.0                          0.0   \n",
       "3                          0.0                          0.0   \n",
       "4                          0.0                          0.0   \n",
       "\n",
       "   TotalTelephoneInquiries_788  TotalTelephoneInquiries_798  \\\n",
       "0                          0.0                          0.0   \n",
       "1                          0.0                          0.0   \n",
       "2                          0.0                          0.0   \n",
       "3                          0.0                          0.0   \n",
       "4                          0.0                          0.0   \n",
       "\n",
       "   TotalTelephoneInquiries_839  TotalTelephoneInquiries_840  \\\n",
       "0                          0.0                          0.0   \n",
       "1                          0.0                          0.0   \n",
       "2                          0.0                          0.0   \n",
       "3                          0.0                          0.0   \n",
       "4                          0.0                          0.0   \n",
       "\n",
       "   TotalTelephoneInquiries_861  TotalTelephoneInquiries_878  ...  \\\n",
       "0                          0.0                          0.0  ...   \n",
       "1                          0.0                          0.0  ...   \n",
       "2                          0.0                          0.0  ...   \n",
       "3                          0.0                          0.0  ...   \n",
       "4                          0.0                          0.0  ...   \n",
       "\n",
       "   TotalCertifications_59  TotalCertifications_61  TotalCertifications_68  \\\n",
       "0                     0.0                     0.0                     0.0   \n",
       "1                     0.0                     0.0                     0.0   \n",
       "2                     0.0                     0.0                     0.0   \n",
       "3                     0.0                     0.0                     0.0   \n",
       "4                     0.0                     0.0                     0.0   \n",
       "\n",
       "   TotalCertifications_70  TotalCertifications_71  TotalCertifications_72  \\\n",
       "0                     0.0                     0.0                     0.0   \n",
       "1                     0.0                     0.0                     0.0   \n",
       "2                     0.0                     0.0                     0.0   \n",
       "3                     0.0                     0.0                     0.0   \n",
       "4                     0.0                     1.0                     0.0   \n",
       "\n",
       "   TotalCertifications_73  TotalCertifications_76  TotalCertifications_81  \\\n",
       "0                     0.0                     0.0                     0.0   \n",
       "1                     0.0                     0.0                     0.0   \n",
       "2                     0.0                     0.0                     0.0   \n",
       "3                     0.0                     0.0                     0.0   \n",
       "4                     0.0                     0.0                     0.0   \n",
       "\n",
       "   TotalCertifications_92  \n",
       "0                     0.0  \n",
       "1                     0.0  \n",
       "2                     0.0  \n",
       "3                     0.0  \n",
       "4                     0.0  \n",
       "\n",
       "[5 rows x 662 columns]"
      ]
     },
     "execution_count": 157,
     "metadata": {},
     "output_type": "execute_result"
    }
   ],
   "source": [
    "# Create a OneHotEncoder instance\n",
    "enc = OneHotEncoder(sparse=False)\n",
    "\n",
    "# Fit and transform the OneHotEncoder using the categorical variable list\n",
    "encode_cus_service_df = pd.DataFrame(enc.fit_transform(update_cus_service_df[TotalInquiries_cat]))\n",
    "\n",
    "# Add the encoded variable names to the dataframe\n",
    "encode_cus_service_df.columns = enc.get_feature_names(TotalInquiries_cat)\n",
    "encode_cus_service_df.head()"
   ]
  },
  {
   "cell_type": "code",
   "execution_count": 158,
   "id": "b5b1c80f",
   "metadata": {},
   "outputs": [],
   "source": [
    "# Remove status target from features data\n",
    "y = encode_cus_service_df.TotalCertifications_40.values\n",
    "X = encode_cus_service_df.drop(columns=[\"TotalCertifications_21\",\"TotalCertifications_40\"]).values\n",
    "\n",
    "# Split training/test datasets\n",
    "X_train, X_test, y_train, y_test = train_test_split(X, y, random_state=5, stratify=y)\n",
    "\n",
    "# Create a StandardScaler instance\n",
    "scaler = StandardScaler()\n",
    "\n",
    "# Fit the StandardScaler\n",
    "X_scaler = scaler.fit(X_train)\n",
    "\n",
    "# Scale the data\n",
    "X_train_scaled = X_scaler.transform(X_train)\n",
    "X_test_scaled = X_scaler.transform(X_test)"
   ]
  },
  {
   "cell_type": "code",
   "execution_count": 159,
   "id": "0c36e932",
   "metadata": {},
   "outputs": [],
   "source": [
    "# Create the SVM model\n",
    "svm = SVC(kernel='linear')"
   ]
  },
  {
   "cell_type": "code",
   "execution_count": 160,
   "id": "d18cc455",
   "metadata": {},
   "outputs": [
    {
     "data": {
      "text/plain": [
       "SVC(kernel='linear')"
      ]
     },
     "execution_count": 160,
     "metadata": {},
     "output_type": "execute_result"
    }
   ],
   "source": [
    "# Train the model\n",
    "svm.fit(X_train, y_train)"
   ]
  },
  {
   "cell_type": "code",
   "execution_count": 161,
   "id": "6a550632",
   "metadata": {},
   "outputs": [
    {
     "name": "stdout",
     "output_type": "stream",
     "text": [
      " SVM model accuracy: 0.967\n"
     ]
    }
   ],
   "source": [
    "# Evaluate the model\n",
    "y_pred = svm.predict(X_test_scaled)\n",
    "print(f\" SVM model accuracy: {accuracy_score(y_test,y_pred):.3f}\")"
   ]
  },
  {
   "cell_type": "markdown",
   "id": "5cd7f56d",
   "metadata": {},
   "source": [
    "# Support Vector Machine\n",
    "SVM model accuracy: 0.967"
   ]
  },
  {
   "cell_type": "markdown",
   "id": "7d12eff7",
   "metadata": {},
   "source": [
    "# Deep Learning Model"
   ]
  },
  {
   "cell_type": "code",
   "execution_count": 162,
   "id": "4df8eb99",
   "metadata": {},
   "outputs": [],
   "source": [
    "# Define the model - deep neural net\n",
    "number_input_features = len(X_train_scaled[0])\n",
    "hidden_nodes_layer1 = 10\n",
    "hidden_nodes_layer2 = 5\n",
    "\n",
    "nn = tf.keras.models.Sequential()\n",
    "\n",
    "# First hidden layer\n",
    "nn.add(\n",
    "    tf.keras.layers.Dense(units=hidden_nodes_layer1, input_dim=number_input_features, activation=\"relu\")\n",
    ")\n",
    "\n",
    "# Second hidden layer\n",
    "nn.add(tf.keras.layers.Dense(units=hidden_nodes_layer2, activation=\"relu\"))\n",
    "\n",
    "\n",
    "# Output layer\n",
    "nn.add(tf.keras.layers.Dense(units=1, activation=\"sigmoid\"))\n",
    "\n",
    "# Compile the Sequential model together and customize metrics\n",
    "nn.compile(loss=\"binary_crossentropy\", optimizer=\"adam\", metrics=[\"accuracy\"])"
   ]
  },
  {
   "cell_type": "code",
   "execution_count": 163,
   "id": "4e279f01",
   "metadata": {},
   "outputs": [
    {
     "name": "stdout",
     "output_type": "stream",
     "text": [
      "Epoch 1/25\n",
      "3/3 [==============================] - 1s 3ms/step - loss: 0.8151 - accuracy: 0.1778\n",
      "Epoch 2/25\n",
      "3/3 [==============================] - 0s 4ms/step - loss: 0.7752 - accuracy: 0.2222\n",
      "Epoch 3/25\n",
      "3/3 [==============================] - 0s 4ms/step - loss: 0.7440 - accuracy: 0.3222\n",
      "Epoch 4/25\n",
      "3/3 [==============================] - 0s 4ms/step - loss: 0.7182 - accuracy: 0.3778\n",
      "Epoch 5/25\n",
      "3/3 [==============================] - 0s 4ms/step - loss: 0.6972 - accuracy: 0.4889\n",
      "Epoch 6/25\n",
      "3/3 [==============================] - 0s 3ms/step - loss: 0.6790 - accuracy: 0.5556\n",
      "Epoch 7/25\n",
      "3/3 [==============================] - 0s 3ms/step - loss: 0.6648 - accuracy: 0.6444\n",
      "Epoch 8/25\n",
      "3/3 [==============================] - 0s 4ms/step - loss: 0.6526 - accuracy: 0.7111\n",
      "Epoch 9/25\n",
      "3/3 [==============================] - 0s 3ms/step - loss: 0.6406 - accuracy: 0.7222\n",
      "Epoch 10/25\n",
      "3/3 [==============================] - 0s 3ms/step - loss: 0.6294 - accuracy: 0.8444\n",
      "Epoch 11/25\n",
      "3/3 [==============================] - 0s 4ms/step - loss: 0.6180 - accuracy: 0.9222\n",
      "Epoch 12/25\n",
      "3/3 [==============================] - 0s 8ms/step - loss: 0.6078 - accuracy: 0.9444\n",
      "Epoch 13/25\n",
      "3/3 [==============================] - 0s 5ms/step - loss: 0.5973 - accuracy: 0.9556\n",
      "Epoch 14/25\n",
      "3/3 [==============================] - 0s 3ms/step - loss: 0.5869 - accuracy: 0.9667\n",
      "Epoch 15/25\n",
      "3/3 [==============================] - 0s 4ms/step - loss: 0.5756 - accuracy: 0.9778\n",
      "Epoch 16/25\n",
      "3/3 [==============================] - 0s 4ms/step - loss: 0.5648 - accuracy: 0.9778\n",
      "Epoch 17/25\n",
      "3/3 [==============================] - 0s 5ms/step - loss: 0.5531 - accuracy: 0.9778\n",
      "Epoch 18/25\n",
      "3/3 [==============================] - 0s 3ms/step - loss: 0.5412 - accuracy: 0.9778\n",
      "Epoch 19/25\n",
      "3/3 [==============================] - 0s 4ms/step - loss: 0.5285 - accuracy: 0.9889\n",
      "Epoch 20/25\n",
      "3/3 [==============================] - 0s 4ms/step - loss: 0.5161 - accuracy: 0.9889\n",
      "Epoch 21/25\n",
      "3/3 [==============================] - 0s 4ms/step - loss: 0.5019 - accuracy: 1.0000\n",
      "Epoch 22/25\n",
      "3/3 [==============================] - 0s 3ms/step - loss: 0.4874 - accuracy: 1.0000\n",
      "Epoch 23/25\n",
      "3/3 [==============================] - 0s 3ms/step - loss: 0.4721 - accuracy: 1.0000\n",
      "Epoch 24/25\n",
      "3/3 [==============================] - 0s 3ms/step - loss: 0.4564 - accuracy: 1.0000\n",
      "Epoch 25/25\n",
      "3/3 [==============================] - 0s 3ms/step - loss: 0.4397 - accuracy: 0.9889\n",
      "1/1 [==============================] - 0s 135ms/step - loss: 0.4992 - accuracy: 0.9667\n",
      "Loss: 0.49916526675224304, Accuracy: 0.9666666388511658\n"
     ]
    }
   ],
   "source": [
    "# Train the model \n",
    "fit_model = nn.fit(X_train_scaled, y_train, epochs=25) \n",
    "# Evaluate the model using the test data \n",
    "model_loss, model_accuracy = nn.evaluate(X_test_scaled,y_test,verbose=1)\n",
    "print(f\"Loss: {model_loss}, Accuracy: {model_accuracy}\")"
   ]
  },
  {
   "cell_type": "markdown",
   "id": "b7332432",
   "metadata": {},
   "source": [
    "# Deep Learning Model\n",
    "Loss: 0.48, Accuracy: 0.97"
   ]
  },
  {
   "cell_type": "code",
   "execution_count": 164,
   "id": "d37844e4",
   "metadata": {},
   "outputs": [
    {
     "data": {
      "text/html": [
       "<div>\n",
       "<style scoped>\n",
       "    .dataframe tbody tr th:only-of-type {\n",
       "        vertical-align: middle;\n",
       "    }\n",
       "\n",
       "    .dataframe tbody tr th {\n",
       "        vertical-align: top;\n",
       "    }\n",
       "\n",
       "    .dataframe thead th {\n",
       "        text-align: right;\n",
       "    }\n",
       "</style>\n",
       "<table border=\"1\" class=\"dataframe\">\n",
       "  <thead>\n",
       "    <tr style=\"text-align: right;\">\n",
       "      <th></th>\n",
       "      <th>Model</th>\n",
       "      <th>Accuracy</th>\n",
       "    </tr>\n",
       "  </thead>\n",
       "  <tbody>\n",
       "    <tr>\n",
       "      <th>0</th>\n",
       "      <td>Random Forest</td>\n",
       "      <td>99.133333</td>\n",
       "    </tr>\n",
       "    <tr>\n",
       "      <th>1</th>\n",
       "      <td>Support Vector Machine</td>\n",
       "      <td>96.666667</td>\n",
       "    </tr>\n",
       "    <tr>\n",
       "      <th>2</th>\n",
       "      <td>Deep Learning Model</td>\n",
       "      <td>96.666664</td>\n",
       "    </tr>\n",
       "  </tbody>\n",
       "</table>\n",
       "</div>"
      ],
      "text/plain": [
       "                    Model   Accuracy\n",
       "0           Random Forest  99.133333\n",
       "1  Support Vector Machine  96.666667\n",
       "2     Deep Learning Model  96.666664"
      ]
     },
     "execution_count": 164,
     "metadata": {},
     "output_type": "execute_result"
    }
   ],
   "source": [
    "model_evaluation = pd.DataFrame({'Model': ['Random Forest','Support Vector Machine','Deep Learning Model'], 'Accuracy': [ran_for*100,\n",
    "                    accuracy_score(y_test,y_pred)*100,model_accuracy*100]})\n",
    "model_evaluation"
   ]
  },
  {
   "cell_type": "code",
   "execution_count": null,
   "id": "434d4375",
   "metadata": {},
   "outputs": [],
   "source": []
  }
 ],
 "metadata": {
  "kernelspec": {
   "display_name": "Python 3 (ipykernel)",
   "language": "python",
   "name": "python3"
  },
  "language_info": {
   "codemirror_mode": {
    "name": "ipython",
    "version": 3
   },
   "file_extension": ".py",
   "mimetype": "text/x-python",
   "name": "python",
   "nbconvert_exporter": "python",
   "pygments_lexer": "ipython3",
   "version": "3.9.12"
  }
 },
 "nbformat": 4,
 "nbformat_minor": 5
}
